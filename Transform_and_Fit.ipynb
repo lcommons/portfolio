{
  "nbformat": 4,
  "nbformat_minor": 0,
  "metadata": {
    "colab": {
      "name": "Transform and Fit",
      "provenance": [],
      "collapsed_sections": [],
      "include_colab_link": true
    },
    "kernelspec": {
      "name": "python3",
      "display_name": "Python 3"
    }
  },
  "cells": [
    {
      "cell_type": "markdown",
      "metadata": {
        "id": "view-in-github",
        "colab_type": "text"
      },
      "source": [
        "<a href=\"https://colab.research.google.com/github/lcommons/portfolio/blob/master/Transform_and_Fit.ipynb\" target=\"_parent\"><img src=\"https://colab.research.google.com/assets/colab-badge.svg\" alt=\"Open In Colab\"/></a>"
      ]
    },
    {
      "cell_type": "markdown",
      "metadata": {
        "id": "IpS2vGykFBtF",
        "colab_type": "text"
      },
      "source": [
        "# Transform and Fit\n",
        "\n",
        "This notebook does a simple demonstration of transforming and fit.\n",
        "\n",
        "To begin with the mean of the different variables varies from around 400 to over 1000 and standard deviations vary from 100 to 600. The data isn't comparable and its impossible to draw meaningful conclusions from the data."
      ]
    },
    {
      "cell_type": "code",
      "metadata": {
        "id": "z9CsY9bFE20k",
        "colab_type": "code",
        "colab": {}
      },
      "source": [
        "import pandas as pd\n",
        "import numpy as np\n",
        "from sklearn.preprocessing import StandardScaler \n"
      ],
      "execution_count": 0,
      "outputs": []
    },
    {
      "cell_type": "code",
      "metadata": {
        "id": "uwZOwVnIFLTc",
        "colab_type": "code",
        "colab": {}
      },
      "source": [
        "# This is some fake data to demonstrate the concepts\n",
        "github_url = 'https://raw.githubusercontent.com/lcommons/portfolio/master/data/KNN_Project_Data'\n",
        "df = pd.read_csv(github_url)"
      ],
      "execution_count": 0,
      "outputs": []
    },
    {
      "cell_type": "code",
      "metadata": {
        "id": "APlZ-o66333_",
        "colab_type": "code",
        "outputId": "e4fd8dcd-c4ac-42c5-eea5-5a5dfb9180c1",
        "colab": {
          "base_uri": "https://localhost:8080/",
          "height": 240
        }
      },
      "source": [
        "df.head()"
      ],
      "execution_count": 3,
      "outputs": [
        {
          "output_type": "execute_result",
          "data": {
            "text/html": [
              "<div>\n",
              "<style scoped>\n",
              "    .dataframe tbody tr th:only-of-type {\n",
              "        vertical-align: middle;\n",
              "    }\n",
              "\n",
              "    .dataframe tbody tr th {\n",
              "        vertical-align: top;\n",
              "    }\n",
              "\n",
              "    .dataframe thead th {\n",
              "        text-align: right;\n",
              "    }\n",
              "</style>\n",
              "<table border=\"1\" class=\"dataframe\">\n",
              "  <thead>\n",
              "    <tr style=\"text-align: right;\">\n",
              "      <th></th>\n",
              "      <th>XVPM</th>\n",
              "      <th>GWYH</th>\n",
              "      <th>TRAT</th>\n",
              "      <th>TLLZ</th>\n",
              "      <th>IGGA</th>\n",
              "      <th>HYKR</th>\n",
              "      <th>EDFS</th>\n",
              "      <th>GUUB</th>\n",
              "      <th>MGJM</th>\n",
              "      <th>JHZC</th>\n",
              "      <th>TARGET CLASS</th>\n",
              "    </tr>\n",
              "  </thead>\n",
              "  <tbody>\n",
              "    <tr>\n",
              "      <th>0</th>\n",
              "      <td>1636.670614</td>\n",
              "      <td>817.988525</td>\n",
              "      <td>2565.995189</td>\n",
              "      <td>358.347163</td>\n",
              "      <td>550.417491</td>\n",
              "      <td>1618.870897</td>\n",
              "      <td>2147.641254</td>\n",
              "      <td>330.727893</td>\n",
              "      <td>1494.878631</td>\n",
              "      <td>845.136088</td>\n",
              "      <td>0</td>\n",
              "    </tr>\n",
              "    <tr>\n",
              "      <th>1</th>\n",
              "      <td>1013.402760</td>\n",
              "      <td>577.587332</td>\n",
              "      <td>2644.141273</td>\n",
              "      <td>280.428203</td>\n",
              "      <td>1161.873391</td>\n",
              "      <td>2084.107872</td>\n",
              "      <td>853.404981</td>\n",
              "      <td>447.157619</td>\n",
              "      <td>1193.032521</td>\n",
              "      <td>861.081809</td>\n",
              "      <td>1</td>\n",
              "    </tr>\n",
              "    <tr>\n",
              "      <th>2</th>\n",
              "      <td>1300.035501</td>\n",
              "      <td>820.518697</td>\n",
              "      <td>2025.854469</td>\n",
              "      <td>525.562292</td>\n",
              "      <td>922.206261</td>\n",
              "      <td>2552.355407</td>\n",
              "      <td>818.676686</td>\n",
              "      <td>845.491492</td>\n",
              "      <td>1968.367513</td>\n",
              "      <td>1647.186291</td>\n",
              "      <td>1</td>\n",
              "    </tr>\n",
              "    <tr>\n",
              "      <th>3</th>\n",
              "      <td>1059.347542</td>\n",
              "      <td>1066.866418</td>\n",
              "      <td>612.000041</td>\n",
              "      <td>480.827789</td>\n",
              "      <td>419.467495</td>\n",
              "      <td>685.666983</td>\n",
              "      <td>852.867810</td>\n",
              "      <td>341.664784</td>\n",
              "      <td>1154.391368</td>\n",
              "      <td>1450.935357</td>\n",
              "      <td>0</td>\n",
              "    </tr>\n",
              "    <tr>\n",
              "      <th>4</th>\n",
              "      <td>1018.340526</td>\n",
              "      <td>1313.679056</td>\n",
              "      <td>950.622661</td>\n",
              "      <td>724.742174</td>\n",
              "      <td>843.065903</td>\n",
              "      <td>1370.554164</td>\n",
              "      <td>905.469453</td>\n",
              "      <td>658.118202</td>\n",
              "      <td>539.459350</td>\n",
              "      <td>1899.850792</td>\n",
              "      <td>0</td>\n",
              "    </tr>\n",
              "  </tbody>\n",
              "</table>\n",
              "</div>"
            ],
            "text/plain": [
              "          XVPM         GWYH  ...         JHZC  TARGET CLASS\n",
              "0  1636.670614   817.988525  ...   845.136088             0\n",
              "1  1013.402760   577.587332  ...   861.081809             1\n",
              "2  1300.035501   820.518697  ...  1647.186291             1\n",
              "3  1059.347542  1066.866418  ...  1450.935357             0\n",
              "4  1018.340526  1313.679056  ...  1899.850792             0\n",
              "\n",
              "[5 rows x 11 columns]"
            ]
          },
          "metadata": {
            "tags": []
          },
          "execution_count": 3
        }
      ]
    },
    {
      "cell_type": "code",
      "metadata": {
        "id": "wmVRCTxxdZIj",
        "colab_type": "code",
        "outputId": "d5137238-5272-4a76-b52c-4076661b9764",
        "colab": {
          "base_uri": "https://localhost:8080/",
          "height": 332
        }
      },
      "source": [
        "df.describe()"
      ],
      "execution_count": 4,
      "outputs": [
        {
          "output_type": "execute_result",
          "data": {
            "text/html": [
              "<div>\n",
              "<style scoped>\n",
              "    .dataframe tbody tr th:only-of-type {\n",
              "        vertical-align: middle;\n",
              "    }\n",
              "\n",
              "    .dataframe tbody tr th {\n",
              "        vertical-align: top;\n",
              "    }\n",
              "\n",
              "    .dataframe thead th {\n",
              "        text-align: right;\n",
              "    }\n",
              "</style>\n",
              "<table border=\"1\" class=\"dataframe\">\n",
              "  <thead>\n",
              "    <tr style=\"text-align: right;\">\n",
              "      <th></th>\n",
              "      <th>XVPM</th>\n",
              "      <th>GWYH</th>\n",
              "      <th>TRAT</th>\n",
              "      <th>TLLZ</th>\n",
              "      <th>IGGA</th>\n",
              "      <th>HYKR</th>\n",
              "      <th>EDFS</th>\n",
              "      <th>GUUB</th>\n",
              "      <th>MGJM</th>\n",
              "      <th>JHZC</th>\n",
              "      <th>TARGET CLASS</th>\n",
              "    </tr>\n",
              "  </thead>\n",
              "  <tbody>\n",
              "    <tr>\n",
              "      <th>count</th>\n",
              "      <td>1000.000000</td>\n",
              "      <td>1000.000000</td>\n",
              "      <td>1000.000000</td>\n",
              "      <td>1000.000000</td>\n",
              "      <td>1000.000000</td>\n",
              "      <td>1000.000000</td>\n",
              "      <td>1000.000000</td>\n",
              "      <td>1000.000000</td>\n",
              "      <td>1000.000000</td>\n",
              "      <td>1000.000000</td>\n",
              "      <td>1000.00000</td>\n",
              "    </tr>\n",
              "    <tr>\n",
              "      <th>mean</th>\n",
              "      <td>1055.071157</td>\n",
              "      <td>991.851567</td>\n",
              "      <td>1529.373525</td>\n",
              "      <td>495.107156</td>\n",
              "      <td>940.590072</td>\n",
              "      <td>1550.637455</td>\n",
              "      <td>1561.003252</td>\n",
              "      <td>561.346117</td>\n",
              "      <td>1089.067338</td>\n",
              "      <td>1452.521629</td>\n",
              "      <td>0.50000</td>\n",
              "    </tr>\n",
              "    <tr>\n",
              "      <th>std</th>\n",
              "      <td>370.980193</td>\n",
              "      <td>392.278890</td>\n",
              "      <td>640.286092</td>\n",
              "      <td>142.789188</td>\n",
              "      <td>345.923136</td>\n",
              "      <td>493.491988</td>\n",
              "      <td>598.608517</td>\n",
              "      <td>247.357552</td>\n",
              "      <td>402.666953</td>\n",
              "      <td>568.132005</td>\n",
              "      <td>0.50025</td>\n",
              "    </tr>\n",
              "    <tr>\n",
              "      <th>min</th>\n",
              "      <td>21.170000</td>\n",
              "      <td>21.720000</td>\n",
              "      <td>31.800000</td>\n",
              "      <td>8.450000</td>\n",
              "      <td>17.930000</td>\n",
              "      <td>27.930000</td>\n",
              "      <td>31.960000</td>\n",
              "      <td>13.520000</td>\n",
              "      <td>23.210000</td>\n",
              "      <td>30.890000</td>\n",
              "      <td>0.00000</td>\n",
              "    </tr>\n",
              "    <tr>\n",
              "      <th>25%</th>\n",
              "      <td>767.413366</td>\n",
              "      <td>694.859326</td>\n",
              "      <td>1062.600806</td>\n",
              "      <td>401.788135</td>\n",
              "      <td>700.763295</td>\n",
              "      <td>1219.267077</td>\n",
              "      <td>1132.097865</td>\n",
              "      <td>381.704293</td>\n",
              "      <td>801.849802</td>\n",
              "      <td>1059.499689</td>\n",
              "      <td>0.00000</td>\n",
              "    </tr>\n",
              "    <tr>\n",
              "      <th>50%</th>\n",
              "      <td>1045.904805</td>\n",
              "      <td>978.355081</td>\n",
              "      <td>1522.507269</td>\n",
              "      <td>500.197421</td>\n",
              "      <td>939.348662</td>\n",
              "      <td>1564.996551</td>\n",
              "      <td>1565.882879</td>\n",
              "      <td>540.420379</td>\n",
              "      <td>1099.087954</td>\n",
              "      <td>1441.554053</td>\n",
              "      <td>0.50000</td>\n",
              "    </tr>\n",
              "    <tr>\n",
              "      <th>75%</th>\n",
              "      <td>1326.065178</td>\n",
              "      <td>1275.528770</td>\n",
              "      <td>1991.128626</td>\n",
              "      <td>600.525709</td>\n",
              "      <td>1182.578166</td>\n",
              "      <td>1891.937040</td>\n",
              "      <td>1981.739411</td>\n",
              "      <td>725.762027</td>\n",
              "      <td>1369.923665</td>\n",
              "      <td>1864.405512</td>\n",
              "      <td>1.00000</td>\n",
              "    </tr>\n",
              "    <tr>\n",
              "      <th>max</th>\n",
              "      <td>2117.000000</td>\n",
              "      <td>2172.000000</td>\n",
              "      <td>3180.000000</td>\n",
              "      <td>845.000000</td>\n",
              "      <td>1793.000000</td>\n",
              "      <td>2793.000000</td>\n",
              "      <td>3196.000000</td>\n",
              "      <td>1352.000000</td>\n",
              "      <td>2321.000000</td>\n",
              "      <td>3089.000000</td>\n",
              "      <td>1.00000</td>\n",
              "    </tr>\n",
              "  </tbody>\n",
              "</table>\n",
              "</div>"
            ],
            "text/plain": [
              "              XVPM         GWYH  ...         JHZC  TARGET CLASS\n",
              "count  1000.000000  1000.000000  ...  1000.000000    1000.00000\n",
              "mean   1055.071157   991.851567  ...  1452.521629       0.50000\n",
              "std     370.980193   392.278890  ...   568.132005       0.50025\n",
              "min      21.170000    21.720000  ...    30.890000       0.00000\n",
              "25%     767.413366   694.859326  ...  1059.499689       0.00000\n",
              "50%    1045.904805   978.355081  ...  1441.554053       0.50000\n",
              "75%    1326.065178  1275.528770  ...  1864.405512       1.00000\n",
              "max    2117.000000  2172.000000  ...  3089.000000       1.00000\n",
              "\n",
              "[8 rows x 11 columns]"
            ]
          },
          "metadata": {
            "tags": []
          },
          "execution_count": 4
        }
      ]
    },
    {
      "cell_type": "markdown",
      "metadata": {
        "id": "atRHk6gYfuIq",
        "colab_type": "text"
      },
      "source": [
        "## Transform the data to scale it"
      ]
    },
    {
      "cell_type": "code",
      "metadata": {
        "id": "oqjd_rVVd98i",
        "colab_type": "code",
        "colab": {}
      },
      "source": [
        "scaler = StandardScaler()"
      ],
      "execution_count": 0,
      "outputs": []
    },
    {
      "cell_type": "code",
      "metadata": {
        "id": "Fm27q8AafhBB",
        "colab_type": "code",
        "outputId": "af54c7e9-ee5e-49a8-e6df-ce6672d693e6",
        "colab": {
          "base_uri": "https://localhost:8080/",
          "height": 35
        }
      },
      "source": [
        "scaler.fit(df.drop('TARGET CLASS',axis=1))"
      ],
      "execution_count": 6,
      "outputs": [
        {
          "output_type": "execute_result",
          "data": {
            "text/plain": [
              "StandardScaler(copy=True, with_mean=True, with_std=True)"
            ]
          },
          "metadata": {
            "tags": []
          },
          "execution_count": 6
        }
      ]
    },
    {
      "cell_type": "code",
      "metadata": {
        "id": "t-arKRm2fkGf",
        "colab_type": "code",
        "colab": {}
      },
      "source": [
        "scaled_features = scaler.transform(df.drop('TARGET CLASS',axis=1))"
      ],
      "execution_count": 0,
      "outputs": []
    },
    {
      "cell_type": "markdown",
      "metadata": {
        "id": "GH3B-qi-gCrR",
        "colab_type": "text"
      },
      "source": [
        "## Convert the scaled data back to a dataframe"
      ]
    },
    {
      "cell_type": "code",
      "metadata": {
        "id": "vDphwYVBf1e9",
        "colab_type": "code",
        "outputId": "1f5e2c0c-2620-4bcd-9f01-cd8f49045977",
        "colab": {
          "base_uri": "https://localhost:8080/",
          "height": 202
        }
      },
      "source": [
        "df_feat = pd.DataFrame(scaled_features,columns=df.columns[:-1])\n",
        "df_feat.head()"
      ],
      "execution_count": 8,
      "outputs": [
        {
          "output_type": "execute_result",
          "data": {
            "text/html": [
              "<div>\n",
              "<style scoped>\n",
              "    .dataframe tbody tr th:only-of-type {\n",
              "        vertical-align: middle;\n",
              "    }\n",
              "\n",
              "    .dataframe tbody tr th {\n",
              "        vertical-align: top;\n",
              "    }\n",
              "\n",
              "    .dataframe thead th {\n",
              "        text-align: right;\n",
              "    }\n",
              "</style>\n",
              "<table border=\"1\" class=\"dataframe\">\n",
              "  <thead>\n",
              "    <tr style=\"text-align: right;\">\n",
              "      <th></th>\n",
              "      <th>XVPM</th>\n",
              "      <th>GWYH</th>\n",
              "      <th>TRAT</th>\n",
              "      <th>TLLZ</th>\n",
              "      <th>IGGA</th>\n",
              "      <th>HYKR</th>\n",
              "      <th>EDFS</th>\n",
              "      <th>GUUB</th>\n",
              "      <th>MGJM</th>\n",
              "      <th>JHZC</th>\n",
              "    </tr>\n",
              "  </thead>\n",
              "  <tbody>\n",
              "    <tr>\n",
              "      <th>0</th>\n",
              "      <td>1.568522</td>\n",
              "      <td>-0.443435</td>\n",
              "      <td>1.619808</td>\n",
              "      <td>-0.958255</td>\n",
              "      <td>-1.128481</td>\n",
              "      <td>0.138336</td>\n",
              "      <td>0.980493</td>\n",
              "      <td>-0.932794</td>\n",
              "      <td>1.008313</td>\n",
              "      <td>-1.069627</td>\n",
              "    </tr>\n",
              "    <tr>\n",
              "      <th>1</th>\n",
              "      <td>-0.112376</td>\n",
              "      <td>-1.056574</td>\n",
              "      <td>1.741918</td>\n",
              "      <td>-1.504220</td>\n",
              "      <td>0.640009</td>\n",
              "      <td>1.081552</td>\n",
              "      <td>-1.182663</td>\n",
              "      <td>-0.461864</td>\n",
              "      <td>0.258321</td>\n",
              "      <td>-1.041546</td>\n",
              "    </tr>\n",
              "    <tr>\n",
              "      <th>2</th>\n",
              "      <td>0.660647</td>\n",
              "      <td>-0.436981</td>\n",
              "      <td>0.775793</td>\n",
              "      <td>0.213394</td>\n",
              "      <td>-0.053171</td>\n",
              "      <td>2.030872</td>\n",
              "      <td>-1.240707</td>\n",
              "      <td>1.149298</td>\n",
              "      <td>2.184784</td>\n",
              "      <td>0.342811</td>\n",
              "    </tr>\n",
              "    <tr>\n",
              "      <th>3</th>\n",
              "      <td>0.011533</td>\n",
              "      <td>0.191324</td>\n",
              "      <td>-1.433473</td>\n",
              "      <td>-0.100053</td>\n",
              "      <td>-1.507223</td>\n",
              "      <td>-1.753632</td>\n",
              "      <td>-1.183561</td>\n",
              "      <td>-0.888557</td>\n",
              "      <td>0.162310</td>\n",
              "      <td>-0.002793</td>\n",
              "    </tr>\n",
              "    <tr>\n",
              "      <th>4</th>\n",
              "      <td>-0.099059</td>\n",
              "      <td>0.820815</td>\n",
              "      <td>-0.904346</td>\n",
              "      <td>1.609015</td>\n",
              "      <td>-0.282065</td>\n",
              "      <td>-0.365099</td>\n",
              "      <td>-1.095644</td>\n",
              "      <td>0.391419</td>\n",
              "      <td>-1.365603</td>\n",
              "      <td>0.787762</td>\n",
              "    </tr>\n",
              "  </tbody>\n",
              "</table>\n",
              "</div>"
            ],
            "text/plain": [
              "       XVPM      GWYH      TRAT  ...      GUUB      MGJM      JHZC\n",
              "0  1.568522 -0.443435  1.619808  ... -0.932794  1.008313 -1.069627\n",
              "1 -0.112376 -1.056574  1.741918  ... -0.461864  0.258321 -1.041546\n",
              "2  0.660647 -0.436981  0.775793  ...  1.149298  2.184784  0.342811\n",
              "3  0.011533  0.191324 -1.433473  ... -0.888557  0.162310 -0.002793\n",
              "4 -0.099059  0.820815 -0.904346  ...  0.391419 -1.365603  0.787762\n",
              "\n",
              "[5 rows x 10 columns]"
            ]
          },
          "metadata": {
            "tags": []
          },
          "execution_count": 8
        }
      ]
    },
    {
      "cell_type": "code",
      "metadata": {
        "id": "QtYlckhu63U3",
        "colab_type": "code",
        "outputId": "d32fd1db-cb73-4027-bf3a-86ced54059ec",
        "colab": {
          "base_uri": "https://localhost:8080/",
          "height": 315
        }
      },
      "source": [
        "df_feat.describe()"
      ],
      "execution_count": 9,
      "outputs": [
        {
          "output_type": "execute_result",
          "data": {
            "text/html": [
              "<div>\n",
              "<style scoped>\n",
              "    .dataframe tbody tr th:only-of-type {\n",
              "        vertical-align: middle;\n",
              "    }\n",
              "\n",
              "    .dataframe tbody tr th {\n",
              "        vertical-align: top;\n",
              "    }\n",
              "\n",
              "    .dataframe thead th {\n",
              "        text-align: right;\n",
              "    }\n",
              "</style>\n",
              "<table border=\"1\" class=\"dataframe\">\n",
              "  <thead>\n",
              "    <tr style=\"text-align: right;\">\n",
              "      <th></th>\n",
              "      <th>XVPM</th>\n",
              "      <th>GWYH</th>\n",
              "      <th>TRAT</th>\n",
              "      <th>TLLZ</th>\n",
              "      <th>IGGA</th>\n",
              "      <th>HYKR</th>\n",
              "      <th>EDFS</th>\n",
              "      <th>GUUB</th>\n",
              "      <th>MGJM</th>\n",
              "      <th>JHZC</th>\n",
              "    </tr>\n",
              "  </thead>\n",
              "  <tbody>\n",
              "    <tr>\n",
              "      <th>count</th>\n",
              "      <td>1.000000e+03</td>\n",
              "      <td>1.000000e+03</td>\n",
              "      <td>1.000000e+03</td>\n",
              "      <td>1.000000e+03</td>\n",
              "      <td>1.000000e+03</td>\n",
              "      <td>1.000000e+03</td>\n",
              "      <td>1.000000e+03</td>\n",
              "      <td>1.000000e+03</td>\n",
              "      <td>1.000000e+03</td>\n",
              "      <td>1.000000e+03</td>\n",
              "    </tr>\n",
              "    <tr>\n",
              "      <th>mean</th>\n",
              "      <td>1.187939e-17</td>\n",
              "      <td>1.662004e-16</td>\n",
              "      <td>7.993606e-18</td>\n",
              "      <td>1.694200e-16</td>\n",
              "      <td>-1.438849e-16</td>\n",
              "      <td>-2.786660e-16</td>\n",
              "      <td>-1.606493e-16</td>\n",
              "      <td>-7.838175e-17</td>\n",
              "      <td>-5.010437e-16</td>\n",
              "      <td>2.364775e-17</td>\n",
              "    </tr>\n",
              "    <tr>\n",
              "      <th>std</th>\n",
              "      <td>1.000500e+00</td>\n",
              "      <td>1.000500e+00</td>\n",
              "      <td>1.000500e+00</td>\n",
              "      <td>1.000500e+00</td>\n",
              "      <td>1.000500e+00</td>\n",
              "      <td>1.000500e+00</td>\n",
              "      <td>1.000500e+00</td>\n",
              "      <td>1.000500e+00</td>\n",
              "      <td>1.000500e+00</td>\n",
              "      <td>1.000500e+00</td>\n",
              "    </tr>\n",
              "    <tr>\n",
              "      <th>min</th>\n",
              "      <td>-2.788339e+00</td>\n",
              "      <td>-2.474303e+00</td>\n",
              "      <td>-2.340083e+00</td>\n",
              "      <td>-3.409927e+00</td>\n",
              "      <td>-2.668575e+00</td>\n",
              "      <td>-3.087121e+00</td>\n",
              "      <td>-2.555607e+00</td>\n",
              "      <td>-2.215822e+00</td>\n",
              "      <td>-2.648319e+00</td>\n",
              "      <td>-2.503543e+00</td>\n",
              "    </tr>\n",
              "    <tr>\n",
              "      <th>25%</th>\n",
              "      <td>-7.757873e-01</td>\n",
              "      <td>-7.574735e-01</td>\n",
              "      <td>-7.293713e-01</td>\n",
              "      <td>-6.538711e-01</td>\n",
              "      <td>-6.936419e-01</td>\n",
              "      <td>-6.718168e-01</td>\n",
              "      <td>-7.168625e-01</td>\n",
              "      <td>-7.266069e-01</td>\n",
              "      <td>-7.136450e-01</td>\n",
              "      <td>-6.921254e-01</td>\n",
              "    </tr>\n",
              "    <tr>\n",
              "      <th>50%</th>\n",
              "      <td>-2.472083e-02</td>\n",
              "      <td>-3.442255e-02</td>\n",
              "      <td>-1.072910e-02</td>\n",
              "      <td>3.566665e-02</td>\n",
              "      <td>-3.590482e-03</td>\n",
              "      <td>2.911148e-02</td>\n",
              "      <td>8.155695e-03</td>\n",
              "      <td>-8.463946e-02</td>\n",
              "      <td>2.489807e-02</td>\n",
              "      <td>-1.931429e-02</td>\n",
              "    </tr>\n",
              "    <tr>\n",
              "      <th>75%</th>\n",
              "      <td>7.308466e-01</td>\n",
              "      <td>7.235137e-01</td>\n",
              "      <td>7.215308e-01</td>\n",
              "      <td>7.386505e-01</td>\n",
              "      <td>6.998930e-01</td>\n",
              "      <td>6.919471e-01</td>\n",
              "      <td>7.032086e-01</td>\n",
              "      <td>6.650219e-01</td>\n",
              "      <td>6.978394e-01</td>\n",
              "      <td>7.253420e-01</td>\n",
              "    </tr>\n",
              "    <tr>\n",
              "      <th>max</th>\n",
              "      <td>2.863927e+00</td>\n",
              "      <td>3.009948e+00</td>\n",
              "      <td>2.579241e+00</td>\n",
              "      <td>2.451642e+00</td>\n",
              "      <td>2.465393e+00</td>\n",
              "      <td>2.518753e+00</td>\n",
              "      <td>2.732696e+00</td>\n",
              "      <td>3.198000e+00</td>\n",
              "      <td>3.060964e+00</td>\n",
              "      <td>2.881896e+00</td>\n",
              "    </tr>\n",
              "  </tbody>\n",
              "</table>\n",
              "</div>"
            ],
            "text/plain": [
              "               XVPM          GWYH  ...          MGJM          JHZC\n",
              "count  1.000000e+03  1.000000e+03  ...  1.000000e+03  1.000000e+03\n",
              "mean   1.187939e-17  1.662004e-16  ... -5.010437e-16  2.364775e-17\n",
              "std    1.000500e+00  1.000500e+00  ...  1.000500e+00  1.000500e+00\n",
              "min   -2.788339e+00 -2.474303e+00  ... -2.648319e+00 -2.503543e+00\n",
              "25%   -7.757873e-01 -7.574735e-01  ... -7.136450e-01 -6.921254e-01\n",
              "50%   -2.472083e-02 -3.442255e-02  ...  2.489807e-02 -1.931429e-02\n",
              "75%    7.308466e-01  7.235137e-01  ...  6.978394e-01  7.253420e-01\n",
              "max    2.863927e+00  3.009948e+00  ...  3.060964e+00  2.881896e+00\n",
              "\n",
              "[8 rows x 10 columns]"
            ]
          },
          "metadata": {
            "tags": []
          },
          "execution_count": 9
        }
      ]
    },
    {
      "cell_type": "markdown",
      "metadata": {
        "id": "_EiKNiX-DLAA",
        "colab_type": "text"
      },
      "source": [
        "The count is still 1000, but in scientific notation, making it harder to read. :-(\n",
        "\n",
        " The mean for each value is now ~ zero.\n",
        "\n",
        " The standard deviation for each variable is ~ 1. \n",
        "\n",
        " NOW the different variables can be compared in a meaningful way and this data can be compared with other data."
      ]
    },
    {
      "cell_type": "code",
      "metadata": {
        "id": "oNZZMQGnEb_H",
        "colab_type": "code",
        "colab": {}
      },
      "source": [
        ""
      ],
      "execution_count": 0,
      "outputs": []
    }
  ]
}