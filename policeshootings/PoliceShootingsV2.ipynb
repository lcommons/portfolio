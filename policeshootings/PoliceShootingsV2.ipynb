{
  "cells": [
    {
      "cell_type": "markdown",
      "metadata": {
        "id": "view-in-github",
        "colab_type": "text"
      },
      "source": [
        "<a href=\"https://colab.research.google.com/github/lcommons/portfolio/blob/master/policeshootings/PoliceShootingsV2.ipynb\" target=\"_parent\"><img src=\"https://colab.research.google.com/assets/colab-badge.svg\" alt=\"Open In Colab\"/></a>"
      ]
    },
    {
      "cell_type": "markdown",
      "metadata": {
        "id": "9cmh-zOsEFXk"
      },
      "source": [
        "### Analysis of fatal police shootings"
      ]
    },
    {
      "cell_type": "code",
      "execution_count": 33,
      "metadata": {
        "id": "4BoeuY4VEFXq"
      },
      "outputs": [],
      "source": [
        "import pandas as pd\n",
        "import numpy as np\n",
        "import matplotlib.pyplot as plt\n",
        "import matplotlib.ticker as ticker\n",
        "import seaborn as sns\n",
        "%matplotlib inline"
      ]
    },
    {
      "cell_type": "code",
      "execution_count": 34,
      "metadata": {
        "id": "8tAMUNV9EFXs"
      },
      "outputs": [],
      "source": [
        "#data = pd.read_csv('fatal-police-shootings-data.csv')\n",
        "data = pd.read_csv('https://raw.githubusercontent.com/washingtonpost/data-police-shootings/master/v2/fatal-police-shootings-data.csv')"
      ]
    },
    {
      "cell_type": "code",
      "execution_count": 35,
      "metadata": {
        "id": "PNtDqC95EFXu",
        "outputId": "db4584be-5f90-4ff6-d0db-f3e419553af9",
        "colab": {
          "base_uri": "https://localhost:8080/"
        }
      },
      "outputs": [
        {
          "output_type": "stream",
          "name": "stdout",
          "text": [
            "<class 'pandas.core.frame.DataFrame'>\n",
            "RangeIndex: 10059 entries, 0 to 10058\n",
            "Data columns (total 19 columns):\n",
            " #   Column                      Non-Null Count  Dtype  \n",
            "---  ------                      --------------  -----  \n",
            " 0   id                          10059 non-null  int64  \n",
            " 1   date                        10059 non-null  object \n",
            " 2   threat_type                 9990 non-null   object \n",
            " 3   flee_status                 8674 non-null   object \n",
            " 4   armed_with                  9848 non-null   object \n",
            " 5   city                        9986 non-null   object \n",
            " 6   county                      5359 non-null   object \n",
            " 7   state                       10059 non-null  object \n",
            " 8   latitude                    8956 non-null   float64\n",
            " 9   longitude                   8956 non-null   float64\n",
            " 10  location_precision          8956 non-null   object \n",
            " 11  name                        9743 non-null   object \n",
            " 12  age                         9700 non-null   float64\n",
            " 13  gender                      10031 non-null  object \n",
            " 14  race                        8889 non-null   object \n",
            " 15  race_source                 8913 non-null   object \n",
            " 16  was_mental_illness_related  10059 non-null  bool   \n",
            " 17  body_camera                 10059 non-null  bool   \n",
            " 18  agency_ids                  10058 non-null  object \n",
            "dtypes: bool(2), float64(3), int64(1), object(13)\n",
            "memory usage: 1.3+ MB\n"
          ]
        }
      ],
      "source": [
        "data.info()"
      ]
    },
    {
      "cell_type": "code",
      "execution_count": 36,
      "metadata": {
        "scrolled": true,
        "id": "dGJTNiJ3EFXv",
        "outputId": "352bd3e3-817c-41ad-8a01-a4aa75614105",
        "colab": {
          "base_uri": "https://localhost:8080/"
        }
      },
      "outputs": [
        {
          "output_type": "stream",
          "name": "stdout",
          "text": [
            "<class 'pandas.core.frame.DataFrame'>\n",
            "RangeIndex: 10059 entries, 0 to 10058\n",
            "Data columns (total 19 columns):\n",
            " #   Column                      Non-Null Count  Dtype  \n",
            "---  ------                      --------------  -----  \n",
            " 0   id                          10059 non-null  int64  \n",
            " 1   date                        10059 non-null  object \n",
            " 2   threat_type                 9990 non-null   object \n",
            " 3   flee_status                 8674 non-null   object \n",
            " 4   armed_with                  9848 non-null   object \n",
            " 5   city                        9986 non-null   object \n",
            " 6   county                      5359 non-null   object \n",
            " 7   state                       10059 non-null  object \n",
            " 8   latitude                    8956 non-null   float64\n",
            " 9   longitude                   8956 non-null   float64\n",
            " 10  location_precision          8956 non-null   object \n",
            " 11  name                        9743 non-null   object \n",
            " 12  age                         9700 non-null   float64\n",
            " 13  gender                      10031 non-null  object \n",
            " 14  race                        8889 non-null   object \n",
            " 15  race_source                 8913 non-null   object \n",
            " 16  was_mental_illness_related  10059 non-null  bool   \n",
            " 17  body_camera                 10059 non-null  bool   \n",
            " 18  agency_ids                  10058 non-null  object \n",
            "dtypes: bool(2), float64(3), int64(1), object(13)\n",
            "memory usage: 1.3+ MB\n"
          ]
        }
      ],
      "source": [
        "data.info()"
      ]
    },
    {
      "cell_type": "code",
      "execution_count": 37,
      "metadata": {
        "id": "ijXCSk_VEFXw",
        "outputId": "c1c77a27-acfa-40ae-fd5b-5b4847dde16a",
        "colab": {
          "base_uri": "https://localhost:8080/",
          "height": 300
        }
      },
      "outputs": [
        {
          "output_type": "execute_result",
          "data": {
            "text/plain": [
              "                 id     latitude    longitude          age\n",
              "count  10059.000000  8956.000000  8956.000000  9700.000000\n",
              "mean    5521.537529    36.639723   -96.916971    37.420103\n",
              "std     3126.567957     5.368923    16.381834    12.925098\n",
              "min        3.000000    19.497503  -160.006944     2.000000\n",
              "25%     2811.500000    33.451519  -111.970513    28.000000\n",
              "50%     5553.000000    36.069045   -94.251471    35.000000\n",
              "75%     8236.500000    40.040239   -83.131228    45.000000\n",
              "max    10909.000000    71.301255   -67.867166    92.000000"
            ],
            "text/html": [
              "\n",
              "  <div id=\"df-da118634-ad71-4d9a-93ff-8c27244580c5\" class=\"colab-df-container\">\n",
              "    <div>\n",
              "<style scoped>\n",
              "    .dataframe tbody tr th:only-of-type {\n",
              "        vertical-align: middle;\n",
              "    }\n",
              "\n",
              "    .dataframe tbody tr th {\n",
              "        vertical-align: top;\n",
              "    }\n",
              "\n",
              "    .dataframe thead th {\n",
              "        text-align: right;\n",
              "    }\n",
              "</style>\n",
              "<table border=\"1\" class=\"dataframe\">\n",
              "  <thead>\n",
              "    <tr style=\"text-align: right;\">\n",
              "      <th></th>\n",
              "      <th>id</th>\n",
              "      <th>latitude</th>\n",
              "      <th>longitude</th>\n",
              "      <th>age</th>\n",
              "    </tr>\n",
              "  </thead>\n",
              "  <tbody>\n",
              "    <tr>\n",
              "      <th>count</th>\n",
              "      <td>10059.000000</td>\n",
              "      <td>8956.000000</td>\n",
              "      <td>8956.000000</td>\n",
              "      <td>9700.000000</td>\n",
              "    </tr>\n",
              "    <tr>\n",
              "      <th>mean</th>\n",
              "      <td>5521.537529</td>\n",
              "      <td>36.639723</td>\n",
              "      <td>-96.916971</td>\n",
              "      <td>37.420103</td>\n",
              "    </tr>\n",
              "    <tr>\n",
              "      <th>std</th>\n",
              "      <td>3126.567957</td>\n",
              "      <td>5.368923</td>\n",
              "      <td>16.381834</td>\n",
              "      <td>12.925098</td>\n",
              "    </tr>\n",
              "    <tr>\n",
              "      <th>min</th>\n",
              "      <td>3.000000</td>\n",
              "      <td>19.497503</td>\n",
              "      <td>-160.006944</td>\n",
              "      <td>2.000000</td>\n",
              "    </tr>\n",
              "    <tr>\n",
              "      <th>25%</th>\n",
              "      <td>2811.500000</td>\n",
              "      <td>33.451519</td>\n",
              "      <td>-111.970513</td>\n",
              "      <td>28.000000</td>\n",
              "    </tr>\n",
              "    <tr>\n",
              "      <th>50%</th>\n",
              "      <td>5553.000000</td>\n",
              "      <td>36.069045</td>\n",
              "      <td>-94.251471</td>\n",
              "      <td>35.000000</td>\n",
              "    </tr>\n",
              "    <tr>\n",
              "      <th>75%</th>\n",
              "      <td>8236.500000</td>\n",
              "      <td>40.040239</td>\n",
              "      <td>-83.131228</td>\n",
              "      <td>45.000000</td>\n",
              "    </tr>\n",
              "    <tr>\n",
              "      <th>max</th>\n",
              "      <td>10909.000000</td>\n",
              "      <td>71.301255</td>\n",
              "      <td>-67.867166</td>\n",
              "      <td>92.000000</td>\n",
              "    </tr>\n",
              "  </tbody>\n",
              "</table>\n",
              "</div>\n",
              "    <div class=\"colab-df-buttons\">\n",
              "\n",
              "  <div class=\"colab-df-container\">\n",
              "    <button class=\"colab-df-convert\" onclick=\"convertToInteractive('df-da118634-ad71-4d9a-93ff-8c27244580c5')\"\n",
              "            title=\"Convert this dataframe to an interactive table.\"\n",
              "            style=\"display:none;\">\n",
              "\n",
              "  <svg xmlns=\"http://www.w3.org/2000/svg\" height=\"24px\" viewBox=\"0 -960 960 960\">\n",
              "    <path d=\"M120-120v-720h720v720H120Zm60-500h600v-160H180v160Zm220 220h160v-160H400v160Zm0 220h160v-160H400v160ZM180-400h160v-160H180v160Zm440 0h160v-160H620v160ZM180-180h160v-160H180v160Zm440 0h160v-160H620v160Z\"/>\n",
              "  </svg>\n",
              "    </button>\n",
              "\n",
              "  <style>\n",
              "    .colab-df-container {\n",
              "      display:flex;\n",
              "      gap: 12px;\n",
              "    }\n",
              "\n",
              "    .colab-df-convert {\n",
              "      background-color: #E8F0FE;\n",
              "      border: none;\n",
              "      border-radius: 50%;\n",
              "      cursor: pointer;\n",
              "      display: none;\n",
              "      fill: #1967D2;\n",
              "      height: 32px;\n",
              "      padding: 0 0 0 0;\n",
              "      width: 32px;\n",
              "    }\n",
              "\n",
              "    .colab-df-convert:hover {\n",
              "      background-color: #E2EBFA;\n",
              "      box-shadow: 0px 1px 2px rgba(60, 64, 67, 0.3), 0px 1px 3px 1px rgba(60, 64, 67, 0.15);\n",
              "      fill: #174EA6;\n",
              "    }\n",
              "\n",
              "    .colab-df-buttons div {\n",
              "      margin-bottom: 4px;\n",
              "    }\n",
              "\n",
              "    [theme=dark] .colab-df-convert {\n",
              "      background-color: #3B4455;\n",
              "      fill: #D2E3FC;\n",
              "    }\n",
              "\n",
              "    [theme=dark] .colab-df-convert:hover {\n",
              "      background-color: #434B5C;\n",
              "      box-shadow: 0px 1px 3px 1px rgba(0, 0, 0, 0.15);\n",
              "      filter: drop-shadow(0px 1px 2px rgba(0, 0, 0, 0.3));\n",
              "      fill: #FFFFFF;\n",
              "    }\n",
              "  </style>\n",
              "\n",
              "    <script>\n",
              "      const buttonEl =\n",
              "        document.querySelector('#df-da118634-ad71-4d9a-93ff-8c27244580c5 button.colab-df-convert');\n",
              "      buttonEl.style.display =\n",
              "        google.colab.kernel.accessAllowed ? 'block' : 'none';\n",
              "\n",
              "      async function convertToInteractive(key) {\n",
              "        const element = document.querySelector('#df-da118634-ad71-4d9a-93ff-8c27244580c5');\n",
              "        const dataTable =\n",
              "          await google.colab.kernel.invokeFunction('convertToInteractive',\n",
              "                                                    [key], {});\n",
              "        if (!dataTable) return;\n",
              "\n",
              "        const docLinkHtml = 'Like what you see? Visit the ' +\n",
              "          '<a target=\"_blank\" href=https://colab.research.google.com/notebooks/data_table.ipynb>data table notebook</a>'\n",
              "          + ' to learn more about interactive tables.';\n",
              "        element.innerHTML = '';\n",
              "        dataTable['output_type'] = 'display_data';\n",
              "        await google.colab.output.renderOutput(dataTable, element);\n",
              "        const docLink = document.createElement('div');\n",
              "        docLink.innerHTML = docLinkHtml;\n",
              "        element.appendChild(docLink);\n",
              "      }\n",
              "    </script>\n",
              "  </div>\n",
              "\n",
              "\n",
              "<div id=\"df-3bfa4401-f6d1-4cf3-b28b-b8161be98eb9\">\n",
              "  <button class=\"colab-df-quickchart\" onclick=\"quickchart('df-3bfa4401-f6d1-4cf3-b28b-b8161be98eb9')\"\n",
              "            title=\"Suggest charts\"\n",
              "            style=\"display:none;\">\n",
              "\n",
              "<svg xmlns=\"http://www.w3.org/2000/svg\" height=\"24px\"viewBox=\"0 0 24 24\"\n",
              "     width=\"24px\">\n",
              "    <g>\n",
              "        <path d=\"M19 3H5c-1.1 0-2 .9-2 2v14c0 1.1.9 2 2 2h14c1.1 0 2-.9 2-2V5c0-1.1-.9-2-2-2zM9 17H7v-7h2v7zm4 0h-2V7h2v10zm4 0h-2v-4h2v4z\"/>\n",
              "    </g>\n",
              "</svg>\n",
              "  </button>\n",
              "\n",
              "<style>\n",
              "  .colab-df-quickchart {\n",
              "      --bg-color: #E8F0FE;\n",
              "      --fill-color: #1967D2;\n",
              "      --hover-bg-color: #E2EBFA;\n",
              "      --hover-fill-color: #174EA6;\n",
              "      --disabled-fill-color: #AAA;\n",
              "      --disabled-bg-color: #DDD;\n",
              "  }\n",
              "\n",
              "  [theme=dark] .colab-df-quickchart {\n",
              "      --bg-color: #3B4455;\n",
              "      --fill-color: #D2E3FC;\n",
              "      --hover-bg-color: #434B5C;\n",
              "      --hover-fill-color: #FFFFFF;\n",
              "      --disabled-bg-color: #3B4455;\n",
              "      --disabled-fill-color: #666;\n",
              "  }\n",
              "\n",
              "  .colab-df-quickchart {\n",
              "    background-color: var(--bg-color);\n",
              "    border: none;\n",
              "    border-radius: 50%;\n",
              "    cursor: pointer;\n",
              "    display: none;\n",
              "    fill: var(--fill-color);\n",
              "    height: 32px;\n",
              "    padding: 0;\n",
              "    width: 32px;\n",
              "  }\n",
              "\n",
              "  .colab-df-quickchart:hover {\n",
              "    background-color: var(--hover-bg-color);\n",
              "    box-shadow: 0 1px 2px rgba(60, 64, 67, 0.3), 0 1px 3px 1px rgba(60, 64, 67, 0.15);\n",
              "    fill: var(--button-hover-fill-color);\n",
              "  }\n",
              "\n",
              "  .colab-df-quickchart-complete:disabled,\n",
              "  .colab-df-quickchart-complete:disabled:hover {\n",
              "    background-color: var(--disabled-bg-color);\n",
              "    fill: var(--disabled-fill-color);\n",
              "    box-shadow: none;\n",
              "  }\n",
              "\n",
              "  .colab-df-spinner {\n",
              "    border: 2px solid var(--fill-color);\n",
              "    border-color: transparent;\n",
              "    border-bottom-color: var(--fill-color);\n",
              "    animation:\n",
              "      spin 1s steps(1) infinite;\n",
              "  }\n",
              "\n",
              "  @keyframes spin {\n",
              "    0% {\n",
              "      border-color: transparent;\n",
              "      border-bottom-color: var(--fill-color);\n",
              "      border-left-color: var(--fill-color);\n",
              "    }\n",
              "    20% {\n",
              "      border-color: transparent;\n",
              "      border-left-color: var(--fill-color);\n",
              "      border-top-color: var(--fill-color);\n",
              "    }\n",
              "    30% {\n",
              "      border-color: transparent;\n",
              "      border-left-color: var(--fill-color);\n",
              "      border-top-color: var(--fill-color);\n",
              "      border-right-color: var(--fill-color);\n",
              "    }\n",
              "    40% {\n",
              "      border-color: transparent;\n",
              "      border-right-color: var(--fill-color);\n",
              "      border-top-color: var(--fill-color);\n",
              "    }\n",
              "    60% {\n",
              "      border-color: transparent;\n",
              "      border-right-color: var(--fill-color);\n",
              "    }\n",
              "    80% {\n",
              "      border-color: transparent;\n",
              "      border-right-color: var(--fill-color);\n",
              "      border-bottom-color: var(--fill-color);\n",
              "    }\n",
              "    90% {\n",
              "      border-color: transparent;\n",
              "      border-bottom-color: var(--fill-color);\n",
              "    }\n",
              "  }\n",
              "</style>\n",
              "\n",
              "  <script>\n",
              "    async function quickchart(key) {\n",
              "      const quickchartButtonEl =\n",
              "        document.querySelector('#' + key + ' button');\n",
              "      quickchartButtonEl.disabled = true;  // To prevent multiple clicks.\n",
              "      quickchartButtonEl.classList.add('colab-df-spinner');\n",
              "      try {\n",
              "        const charts = await google.colab.kernel.invokeFunction(\n",
              "            'suggestCharts', [key], {});\n",
              "      } catch (error) {\n",
              "        console.error('Error during call to suggestCharts:', error);\n",
              "      }\n",
              "      quickchartButtonEl.classList.remove('colab-df-spinner');\n",
              "      quickchartButtonEl.classList.add('colab-df-quickchart-complete');\n",
              "    }\n",
              "    (() => {\n",
              "      let quickchartButtonEl =\n",
              "        document.querySelector('#df-3bfa4401-f6d1-4cf3-b28b-b8161be98eb9 button');\n",
              "      quickchartButtonEl.style.display =\n",
              "        google.colab.kernel.accessAllowed ? 'block' : 'none';\n",
              "    })();\n",
              "  </script>\n",
              "</div>\n",
              "\n",
              "    </div>\n",
              "  </div>\n"
            ],
            "application/vnd.google.colaboratory.intrinsic+json": {
              "type": "dataframe",
              "summary": "{\n  \"name\": \"data\",\n  \"rows\": 8,\n  \"fields\": [\n    {\n      \"column\": \"id\",\n      \"properties\": {\n        \"dtype\": \"number\",\n        \"std\": 3779.5611892147567,\n        \"min\": 3.0,\n        \"max\": 10909.0,\n        \"num_unique_values\": 8,\n        \"samples\": [\n          5521.53752858137,\n          5553.0,\n          10059.0\n        ],\n        \"semantic_type\": \"\",\n        \"description\": \"\"\n      }\n    },\n    {\n      \"column\": \"latitude\",\n      \"properties\": {\n        \"dtype\": \"number\",\n        \"std\": 3154.2385838565915,\n        \"min\": 5.368922564004991,\n        \"max\": 8956.0,\n        \"num_unique_values\": 8,\n        \"samples\": [\n          36.63972294006485,\n          36.0690452,\n          8956.0\n        ],\n        \"semantic_type\": \"\",\n        \"description\": \"\"\n      }\n    },\n    {\n      \"column\": \"longitude\",\n      \"properties\": {\n        \"dtype\": \"number\",\n        \"std\": 3196.9990420689633,\n        \"min\": -160.0069444,\n        \"max\": 8956.0,\n        \"num_unique_values\": 8,\n        \"samples\": [\n          -96.91697058636412,\n          -94.25147075000001,\n          8956.0\n        ],\n        \"semantic_type\": \"\",\n        \"description\": \"\"\n      }\n    },\n    {\n      \"column\": \"age\",\n      \"properties\": {\n        \"dtype\": \"number\",\n        \"std\": 3416.8264817984746,\n        \"min\": 2.0,\n        \"max\": 9700.0,\n        \"num_unique_values\": 8,\n        \"samples\": [\n          37.420103092783506,\n          35.0,\n          9700.0\n        ],\n        \"semantic_type\": \"\",\n        \"description\": \"\"\n      }\n    }\n  ]\n}"
            }
          },
          "metadata": {},
          "execution_count": 37
        }
      ],
      "source": [
        "data.describe()"
      ]
    },
    {
      "cell_type": "markdown",
      "metadata": {
        "id": "xxy_MWqTEFXw"
      },
      "source": [
        "This tells us that most of the data in this dataset is categorical, and will need to be converted to numerical values to be useful.\n",
        "First, lets break the date into year, month and day columns:"
      ]
    },
    {
      "cell_type": "code",
      "execution_count": 38,
      "metadata": {
        "id": "Kb9UxHhTEFXy"
      },
      "outputs": [],
      "source": [
        "dateUhFrame = data['date'].str.split('-',expand=True)\n",
        "data['year'] = dateUhFrame[0]\n",
        "data['month'] = dateUhFrame[1]\n",
        "data['day'] = dateUhFrame[2]\n",
        "\n",
        "#data['year'] = data['date'].str.split('-',expand=True)[0]\n",
        "#data['month'] = data['date'].str.split('-',expand=True)[1]\n",
        "#data['day'] = data['date'].str.split('-',expand=True)[2]"
      ]
    },
    {
      "cell_type": "code",
      "execution_count": 39,
      "metadata": {
        "id": "FlrGAXpeEFXz",
        "outputId": "4bffa8bb-2b9b-4194-9158-546f4eab12be",
        "colab": {
          "base_uri": "https://localhost:8080/",
          "height": 342
        }
      },
      "outputs": [
        {
          "output_type": "execute_result",
          "data": {
            "text/plain": [
              "   id        date threat_type flee_status armed_with           city  \\\n",
              "0   3  2015-01-02       point         not        gun        Shelton   \n",
              "1   4  2015-01-02       point         not        gun          Aloha   \n",
              "2   5  2015-01-03        move         not    unarmed        Wichita   \n",
              "3   8  2015-01-04       point         not    replica  San Francisco   \n",
              "4   9  2015-01-04       point         not      other          Evans   \n",
              "\n",
              "          county state   latitude   longitude  ...   age gender  race  \\\n",
              "0          Mason    WA  47.246826 -123.121592  ...  53.0   male     A   \n",
              "1     Washington    OR  45.487421 -122.891696  ...  47.0   male     W   \n",
              "2       Sedgwick    KS  37.694766  -97.280554  ...  23.0   male     H   \n",
              "3  San Francisco    CA  37.762910 -122.422001  ...  32.0   male     W   \n",
              "4           Weld    CO  40.383937 -104.692261  ...  39.0   male     H   \n",
              "\n",
              "     race_source was_mental_illness_related body_camera  agency_ids  year  \\\n",
              "0  not_available                       True       False          73  2015   \n",
              "1  not_available                      False       False          70  2015   \n",
              "2  not_available                      False       False         238  2015   \n",
              "3  not_available                       True       False         196  2015   \n",
              "4  not_available                      False       False         473  2015   \n",
              "\n",
              "  month day  \n",
              "0    01  02  \n",
              "1    01  02  \n",
              "2    01  03  \n",
              "3    01  04  \n",
              "4    01  04  \n",
              "\n",
              "[5 rows x 22 columns]"
            ],
            "text/html": [
              "\n",
              "  <div id=\"df-9c4ec035-11ef-4e1c-bf65-ffd995746155\" class=\"colab-df-container\">\n",
              "    <div>\n",
              "<style scoped>\n",
              "    .dataframe tbody tr th:only-of-type {\n",
              "        vertical-align: middle;\n",
              "    }\n",
              "\n",
              "    .dataframe tbody tr th {\n",
              "        vertical-align: top;\n",
              "    }\n",
              "\n",
              "    .dataframe thead th {\n",
              "        text-align: right;\n",
              "    }\n",
              "</style>\n",
              "<table border=\"1\" class=\"dataframe\">\n",
              "  <thead>\n",
              "    <tr style=\"text-align: right;\">\n",
              "      <th></th>\n",
              "      <th>id</th>\n",
              "      <th>date</th>\n",
              "      <th>threat_type</th>\n",
              "      <th>flee_status</th>\n",
              "      <th>armed_with</th>\n",
              "      <th>city</th>\n",
              "      <th>county</th>\n",
              "      <th>state</th>\n",
              "      <th>latitude</th>\n",
              "      <th>longitude</th>\n",
              "      <th>...</th>\n",
              "      <th>age</th>\n",
              "      <th>gender</th>\n",
              "      <th>race</th>\n",
              "      <th>race_source</th>\n",
              "      <th>was_mental_illness_related</th>\n",
              "      <th>body_camera</th>\n",
              "      <th>agency_ids</th>\n",
              "      <th>year</th>\n",
              "      <th>month</th>\n",
              "      <th>day</th>\n",
              "    </tr>\n",
              "  </thead>\n",
              "  <tbody>\n",
              "    <tr>\n",
              "      <th>0</th>\n",
              "      <td>3</td>\n",
              "      <td>2015-01-02</td>\n",
              "      <td>point</td>\n",
              "      <td>not</td>\n",
              "      <td>gun</td>\n",
              "      <td>Shelton</td>\n",
              "      <td>Mason</td>\n",
              "      <td>WA</td>\n",
              "      <td>47.246826</td>\n",
              "      <td>-123.121592</td>\n",
              "      <td>...</td>\n",
              "      <td>53.0</td>\n",
              "      <td>male</td>\n",
              "      <td>A</td>\n",
              "      <td>not_available</td>\n",
              "      <td>True</td>\n",
              "      <td>False</td>\n",
              "      <td>73</td>\n",
              "      <td>2015</td>\n",
              "      <td>01</td>\n",
              "      <td>02</td>\n",
              "    </tr>\n",
              "    <tr>\n",
              "      <th>1</th>\n",
              "      <td>4</td>\n",
              "      <td>2015-01-02</td>\n",
              "      <td>point</td>\n",
              "      <td>not</td>\n",
              "      <td>gun</td>\n",
              "      <td>Aloha</td>\n",
              "      <td>Washington</td>\n",
              "      <td>OR</td>\n",
              "      <td>45.487421</td>\n",
              "      <td>-122.891696</td>\n",
              "      <td>...</td>\n",
              "      <td>47.0</td>\n",
              "      <td>male</td>\n",
              "      <td>W</td>\n",
              "      <td>not_available</td>\n",
              "      <td>False</td>\n",
              "      <td>False</td>\n",
              "      <td>70</td>\n",
              "      <td>2015</td>\n",
              "      <td>01</td>\n",
              "      <td>02</td>\n",
              "    </tr>\n",
              "    <tr>\n",
              "      <th>2</th>\n",
              "      <td>5</td>\n",
              "      <td>2015-01-03</td>\n",
              "      <td>move</td>\n",
              "      <td>not</td>\n",
              "      <td>unarmed</td>\n",
              "      <td>Wichita</td>\n",
              "      <td>Sedgwick</td>\n",
              "      <td>KS</td>\n",
              "      <td>37.694766</td>\n",
              "      <td>-97.280554</td>\n",
              "      <td>...</td>\n",
              "      <td>23.0</td>\n",
              "      <td>male</td>\n",
              "      <td>H</td>\n",
              "      <td>not_available</td>\n",
              "      <td>False</td>\n",
              "      <td>False</td>\n",
              "      <td>238</td>\n",
              "      <td>2015</td>\n",
              "      <td>01</td>\n",
              "      <td>03</td>\n",
              "    </tr>\n",
              "    <tr>\n",
              "      <th>3</th>\n",
              "      <td>8</td>\n",
              "      <td>2015-01-04</td>\n",
              "      <td>point</td>\n",
              "      <td>not</td>\n",
              "      <td>replica</td>\n",
              "      <td>San Francisco</td>\n",
              "      <td>San Francisco</td>\n",
              "      <td>CA</td>\n",
              "      <td>37.762910</td>\n",
              "      <td>-122.422001</td>\n",
              "      <td>...</td>\n",
              "      <td>32.0</td>\n",
              "      <td>male</td>\n",
              "      <td>W</td>\n",
              "      <td>not_available</td>\n",
              "      <td>True</td>\n",
              "      <td>False</td>\n",
              "      <td>196</td>\n",
              "      <td>2015</td>\n",
              "      <td>01</td>\n",
              "      <td>04</td>\n",
              "    </tr>\n",
              "    <tr>\n",
              "      <th>4</th>\n",
              "      <td>9</td>\n",
              "      <td>2015-01-04</td>\n",
              "      <td>point</td>\n",
              "      <td>not</td>\n",
              "      <td>other</td>\n",
              "      <td>Evans</td>\n",
              "      <td>Weld</td>\n",
              "      <td>CO</td>\n",
              "      <td>40.383937</td>\n",
              "      <td>-104.692261</td>\n",
              "      <td>...</td>\n",
              "      <td>39.0</td>\n",
              "      <td>male</td>\n",
              "      <td>H</td>\n",
              "      <td>not_available</td>\n",
              "      <td>False</td>\n",
              "      <td>False</td>\n",
              "      <td>473</td>\n",
              "      <td>2015</td>\n",
              "      <td>01</td>\n",
              "      <td>04</td>\n",
              "    </tr>\n",
              "  </tbody>\n",
              "</table>\n",
              "<p>5 rows × 22 columns</p>\n",
              "</div>\n",
              "    <div class=\"colab-df-buttons\">\n",
              "\n",
              "  <div class=\"colab-df-container\">\n",
              "    <button class=\"colab-df-convert\" onclick=\"convertToInteractive('df-9c4ec035-11ef-4e1c-bf65-ffd995746155')\"\n",
              "            title=\"Convert this dataframe to an interactive table.\"\n",
              "            style=\"display:none;\">\n",
              "\n",
              "  <svg xmlns=\"http://www.w3.org/2000/svg\" height=\"24px\" viewBox=\"0 -960 960 960\">\n",
              "    <path d=\"M120-120v-720h720v720H120Zm60-500h600v-160H180v160Zm220 220h160v-160H400v160Zm0 220h160v-160H400v160ZM180-400h160v-160H180v160Zm440 0h160v-160H620v160ZM180-180h160v-160H180v160Zm440 0h160v-160H620v160Z\"/>\n",
              "  </svg>\n",
              "    </button>\n",
              "\n",
              "  <style>\n",
              "    .colab-df-container {\n",
              "      display:flex;\n",
              "      gap: 12px;\n",
              "    }\n",
              "\n",
              "    .colab-df-convert {\n",
              "      background-color: #E8F0FE;\n",
              "      border: none;\n",
              "      border-radius: 50%;\n",
              "      cursor: pointer;\n",
              "      display: none;\n",
              "      fill: #1967D2;\n",
              "      height: 32px;\n",
              "      padding: 0 0 0 0;\n",
              "      width: 32px;\n",
              "    }\n",
              "\n",
              "    .colab-df-convert:hover {\n",
              "      background-color: #E2EBFA;\n",
              "      box-shadow: 0px 1px 2px rgba(60, 64, 67, 0.3), 0px 1px 3px 1px rgba(60, 64, 67, 0.15);\n",
              "      fill: #174EA6;\n",
              "    }\n",
              "\n",
              "    .colab-df-buttons div {\n",
              "      margin-bottom: 4px;\n",
              "    }\n",
              "\n",
              "    [theme=dark] .colab-df-convert {\n",
              "      background-color: #3B4455;\n",
              "      fill: #D2E3FC;\n",
              "    }\n",
              "\n",
              "    [theme=dark] .colab-df-convert:hover {\n",
              "      background-color: #434B5C;\n",
              "      box-shadow: 0px 1px 3px 1px rgba(0, 0, 0, 0.15);\n",
              "      filter: drop-shadow(0px 1px 2px rgba(0, 0, 0, 0.3));\n",
              "      fill: #FFFFFF;\n",
              "    }\n",
              "  </style>\n",
              "\n",
              "    <script>\n",
              "      const buttonEl =\n",
              "        document.querySelector('#df-9c4ec035-11ef-4e1c-bf65-ffd995746155 button.colab-df-convert');\n",
              "      buttonEl.style.display =\n",
              "        google.colab.kernel.accessAllowed ? 'block' : 'none';\n",
              "\n",
              "      async function convertToInteractive(key) {\n",
              "        const element = document.querySelector('#df-9c4ec035-11ef-4e1c-bf65-ffd995746155');\n",
              "        const dataTable =\n",
              "          await google.colab.kernel.invokeFunction('convertToInteractive',\n",
              "                                                    [key], {});\n",
              "        if (!dataTable) return;\n",
              "\n",
              "        const docLinkHtml = 'Like what you see? Visit the ' +\n",
              "          '<a target=\"_blank\" href=https://colab.research.google.com/notebooks/data_table.ipynb>data table notebook</a>'\n",
              "          + ' to learn more about interactive tables.';\n",
              "        element.innerHTML = '';\n",
              "        dataTable['output_type'] = 'display_data';\n",
              "        await google.colab.output.renderOutput(dataTable, element);\n",
              "        const docLink = document.createElement('div');\n",
              "        docLink.innerHTML = docLinkHtml;\n",
              "        element.appendChild(docLink);\n",
              "      }\n",
              "    </script>\n",
              "  </div>\n",
              "\n",
              "\n",
              "<div id=\"df-7f163bdb-23f5-4057-be21-fc24b0de0ea9\">\n",
              "  <button class=\"colab-df-quickchart\" onclick=\"quickchart('df-7f163bdb-23f5-4057-be21-fc24b0de0ea9')\"\n",
              "            title=\"Suggest charts\"\n",
              "            style=\"display:none;\">\n",
              "\n",
              "<svg xmlns=\"http://www.w3.org/2000/svg\" height=\"24px\"viewBox=\"0 0 24 24\"\n",
              "     width=\"24px\">\n",
              "    <g>\n",
              "        <path d=\"M19 3H5c-1.1 0-2 .9-2 2v14c0 1.1.9 2 2 2h14c1.1 0 2-.9 2-2V5c0-1.1-.9-2-2-2zM9 17H7v-7h2v7zm4 0h-2V7h2v10zm4 0h-2v-4h2v4z\"/>\n",
              "    </g>\n",
              "</svg>\n",
              "  </button>\n",
              "\n",
              "<style>\n",
              "  .colab-df-quickchart {\n",
              "      --bg-color: #E8F0FE;\n",
              "      --fill-color: #1967D2;\n",
              "      --hover-bg-color: #E2EBFA;\n",
              "      --hover-fill-color: #174EA6;\n",
              "      --disabled-fill-color: #AAA;\n",
              "      --disabled-bg-color: #DDD;\n",
              "  }\n",
              "\n",
              "  [theme=dark] .colab-df-quickchart {\n",
              "      --bg-color: #3B4455;\n",
              "      --fill-color: #D2E3FC;\n",
              "      --hover-bg-color: #434B5C;\n",
              "      --hover-fill-color: #FFFFFF;\n",
              "      --disabled-bg-color: #3B4455;\n",
              "      --disabled-fill-color: #666;\n",
              "  }\n",
              "\n",
              "  .colab-df-quickchart {\n",
              "    background-color: var(--bg-color);\n",
              "    border: none;\n",
              "    border-radius: 50%;\n",
              "    cursor: pointer;\n",
              "    display: none;\n",
              "    fill: var(--fill-color);\n",
              "    height: 32px;\n",
              "    padding: 0;\n",
              "    width: 32px;\n",
              "  }\n",
              "\n",
              "  .colab-df-quickchart:hover {\n",
              "    background-color: var(--hover-bg-color);\n",
              "    box-shadow: 0 1px 2px rgba(60, 64, 67, 0.3), 0 1px 3px 1px rgba(60, 64, 67, 0.15);\n",
              "    fill: var(--button-hover-fill-color);\n",
              "  }\n",
              "\n",
              "  .colab-df-quickchart-complete:disabled,\n",
              "  .colab-df-quickchart-complete:disabled:hover {\n",
              "    background-color: var(--disabled-bg-color);\n",
              "    fill: var(--disabled-fill-color);\n",
              "    box-shadow: none;\n",
              "  }\n",
              "\n",
              "  .colab-df-spinner {\n",
              "    border: 2px solid var(--fill-color);\n",
              "    border-color: transparent;\n",
              "    border-bottom-color: var(--fill-color);\n",
              "    animation:\n",
              "      spin 1s steps(1) infinite;\n",
              "  }\n",
              "\n",
              "  @keyframes spin {\n",
              "    0% {\n",
              "      border-color: transparent;\n",
              "      border-bottom-color: var(--fill-color);\n",
              "      border-left-color: var(--fill-color);\n",
              "    }\n",
              "    20% {\n",
              "      border-color: transparent;\n",
              "      border-left-color: var(--fill-color);\n",
              "      border-top-color: var(--fill-color);\n",
              "    }\n",
              "    30% {\n",
              "      border-color: transparent;\n",
              "      border-left-color: var(--fill-color);\n",
              "      border-top-color: var(--fill-color);\n",
              "      border-right-color: var(--fill-color);\n",
              "    }\n",
              "    40% {\n",
              "      border-color: transparent;\n",
              "      border-right-color: var(--fill-color);\n",
              "      border-top-color: var(--fill-color);\n",
              "    }\n",
              "    60% {\n",
              "      border-color: transparent;\n",
              "      border-right-color: var(--fill-color);\n",
              "    }\n",
              "    80% {\n",
              "      border-color: transparent;\n",
              "      border-right-color: var(--fill-color);\n",
              "      border-bottom-color: var(--fill-color);\n",
              "    }\n",
              "    90% {\n",
              "      border-color: transparent;\n",
              "      border-bottom-color: var(--fill-color);\n",
              "    }\n",
              "  }\n",
              "</style>\n",
              "\n",
              "  <script>\n",
              "    async function quickchart(key) {\n",
              "      const quickchartButtonEl =\n",
              "        document.querySelector('#' + key + ' button');\n",
              "      quickchartButtonEl.disabled = true;  // To prevent multiple clicks.\n",
              "      quickchartButtonEl.classList.add('colab-df-spinner');\n",
              "      try {\n",
              "        const charts = await google.colab.kernel.invokeFunction(\n",
              "            'suggestCharts', [key], {});\n",
              "      } catch (error) {\n",
              "        console.error('Error during call to suggestCharts:', error);\n",
              "      }\n",
              "      quickchartButtonEl.classList.remove('colab-df-spinner');\n",
              "      quickchartButtonEl.classList.add('colab-df-quickchart-complete');\n",
              "    }\n",
              "    (() => {\n",
              "      let quickchartButtonEl =\n",
              "        document.querySelector('#df-7f163bdb-23f5-4057-be21-fc24b0de0ea9 button');\n",
              "      quickchartButtonEl.style.display =\n",
              "        google.colab.kernel.accessAllowed ? 'block' : 'none';\n",
              "    })();\n",
              "  </script>\n",
              "</div>\n",
              "\n",
              "    </div>\n",
              "  </div>\n"
            ],
            "application/vnd.google.colaboratory.intrinsic+json": {
              "type": "dataframe",
              "variable_name": "data"
            }
          },
          "metadata": {},
          "execution_count": 39
        }
      ],
      "source": [
        "data.head()"
      ]
    },
    {
      "cell_type": "markdown",
      "metadata": {
        "id": "3ytVvDCuEFX0"
      },
      "source": [
        "### Let's start to analyse the data\n",
        "#### What does the data look like from year to year?"
      ]
    },
    {
      "cell_type": "code",
      "execution_count": 40,
      "metadata": {
        "scrolled": false,
        "id": "uwG9XrNTEFX0",
        "outputId": "745e6940-4d76-4490-cd84-718d20bb5290",
        "colab": {
          "base_uri": "https://localhost:8080/",
          "height": 466
        }
      },
      "outputs": [
        {
          "output_type": "execute_result",
          "data": {
            "text/plain": [
              "<Axes: xlabel='year', ylabel='count'>"
            ]
          },
          "metadata": {},
          "execution_count": 40
        },
        {
          "output_type": "display_data",
          "data": {
            "text/plain": [
              "<Figure size 640x480 with 1 Axes>"
            ],
            "image/png": "[encoded data removed]"
          },
          "metadata": {}
        }
      ],
      "source": [
        "sns.countplot(data=data,x='year')"
      ]
    },
    {
      "cell_type": "markdown",
      "metadata": {
        "id": "Pe7ee8beEFX0"
      },
      "source": [
        "There is not much variation from year to year.\n",
        "\n",
        "\n",
        "#### How about from month to month over the years?"
      ]
    },
    {
      "cell_type": "code",
      "execution_count": 41,
      "metadata": {
        "scrolled": true,
        "id": "sEIds-VjEFX1",
        "outputId": "ff1536f8-f800-47a7-ec1a-1f4876f5ec34",
        "colab": {
          "base_uri": "https://localhost:8080/",
          "height": 466
        }
      },
      "outputs": [
        {
          "output_type": "execute_result",
          "data": {
            "text/plain": [
              "<Axes: xlabel='month', ylabel='count'>"
            ]
          },
          "metadata": {},
          "execution_count": 41
        },
        {
          "output_type": "display_data",
          "data": {
            "text/plain": [
              "<Figure size 640x480 with 1 Axes>"
            ],
            "image/png": "[encoded data removed]"
          },
          "metadata": {}
        }
      ],
      "source": [
        "sns.countplot(data=data,x='month')"
      ]
    },
    {
      "cell_type": "markdown",
      "metadata": {
        "id": "IHzhXR8aEFX1"
      },
      "source": [
        "It looks like there might be some monthly patterns here. A peak in the summer? Decline in autumn? But what's going on in early spring?\n",
        "\n",
        "Maybe we should ask how consistent is the monthly data from year to year? Is one month consistently high or low? Or do they vary from year to year?"
      ]
    },
    {
      "cell_type": "code",
      "execution_count": 42,
      "metadata": {
        "scrolled": true,
        "id": "cNwNSK74EFX1",
        "outputId": "9ee503b1-2821-4a67-a665-2fedf64cb272",
        "colab": {
          "base_uri": "https://localhost:8080/",
          "height": 466
        }
      },
      "outputs": [
        {
          "output_type": "execute_result",
          "data": {
            "text/plain": [
              "<matplotlib.legend.Legend at 0x7b5a30ae5f60>"
            ]
          },
          "metadata": {},
          "execution_count": 42
        },
        {
          "output_type": "display_data",
          "data": {
            "text/plain": [
              "<Figure size 640x480 with 1 Axes>"
            ],
            "image/png": "[encoded data removed]"
          },
          "metadata": {}
        }
      ],
      "source": [
        "sns.countplot(data=data,x='month', hue='year')\n",
        "plt.legend(loc='lower left')"
      ]
    },
    {
      "cell_type": "markdown",
      "metadata": {
        "id": "UZJvFAWrEFX1"
      },
      "source": [
        "It look like there is a lot of variation, each month, from year to year. There is also a lot of variation with in each year. May and June are among the highest in some years, and among the lowest in other years. March was really bad one year, but about average other years. Actually, as shown in the previous chart, March is the deadliest of all months. Beware the ides of March!\n",
        "\n",
        "Maybe it would be easier to see the monthly data for each year:"
      ]
    },
    {
      "cell_type": "code",
      "execution_count": 43,
      "metadata": {
        "id": "3-o3hrrBEFX2",
        "outputId": "41c44f11-fab0-4e27-f0fe-d02e65ab8c4b",
        "colab": {
          "base_uri": "https://localhost:8080/",
          "height": 343
        }
      },
      "outputs": [
        {
          "output_type": "display_data",
          "data": {
            "text/plain": [
              "<Figure size 1500x300 with 10 Axes>"
            ],
            "image/png": "[encoded data removed]"
          },
          "metadata": {}
        }
      ],
      "source": [
        "df15 = data[data['year']=='2015']\n",
        "df16 = data[data['year']=='2016']\n",
        "df17 = data[data['year']=='2017']\n",
        "df18 = data[data['year']=='2018']\n",
        "df19 = data[data['year']=='2019']\n",
        "df20 = data[data['year']=='2020']\n",
        "df21 = data[data['year']=='2021']\n",
        "df22 = data[data['year']=='2022']\n",
        "df23 = data[data['year']=='2023']\n",
        "df24 = data[data['year']=='2024']\n",
        "\n",
        "fig, ax = plt.subplots(2, 5, figsize=(15, 3), sharey=True, sharex=True)\n",
        "\n",
        "# for p in range(8):\n",
        "#   sns.countplot(data=data[data['year']==str(2015+p)], ax=ax[p],x='month')\n",
        "#   ax[p].set_title(p+2015)\n",
        "\n",
        "fig.tight_layout()\n",
        "\n",
        "ax[0,0].set_title('2015')\n",
        "ax[0,1].set_title('2016')\n",
        "ax[0,2].set_title('2017')\n",
        "ax[0,3].set_title('2018')\n",
        "ax[0,4].set_title('2019')\n",
        "ax[1,0].set_title('2020')\n",
        "ax[1,1].set_title('2021')\n",
        "ax[1,2].set_title('2022')\n",
        "ax[1,3].set_title('2023')\n",
        "ax[1,4].set_title('2024')\n",
        "\n",
        "# for a in ax.flat:\n",
        "#     a.set(xlabel='x-label', ylabel='y-label')\n",
        "\n",
        "plot1 = sns.countplot(data=df15, ax=ax[0,0],x='month')\n",
        "for label in plot1.get_xticklabels():\n",
        "    if float(label.get_text()) % 2 == 0:\n",
        "        label.set_visible(True)\n",
        "    else:\n",
        "        label.set_visible(False)\n",
        "plot2 = sns.countplot(data=df16, ax=ax[0,1],x='month')\n",
        "for label in plot2.get_xticklabels():\n",
        "    if float(label.get_text()) % 2 == 0:\n",
        "        label.set_visible(True)\n",
        "    else:\n",
        "        label.set_visible(False)\n",
        "\n",
        "plot3 = sns.countplot(data=df17, ax=ax[0,2],x='month')\n",
        "for label in plot3.get_xticklabels():\n",
        "    if float(label.get_text()) % 2 == 0:\n",
        "        label.set_visible(True)\n",
        "    else:\n",
        "        label.set_visible(False)\n",
        "\n",
        "plot4 = sns.countplot(data=df18, ax=ax[0,3],x='month')\n",
        "for label in plot4.get_xticklabels():\n",
        "    if float(label.get_text()) % 2 == 0:\n",
        "        label.set_visible(True)\n",
        "    else:\n",
        "        label.set_visible(False)\n",
        "\n",
        "plot5 = sns.countplot(data=df19, ax=ax[0,4],x='month')\n",
        "for label in plot5.get_xticklabels():\n",
        "    if float(label.get_text()) % 2 == 0:\n",
        "        label.set_visible(True)\n",
        "    else:\n",
        "        label.set_visible(False)\n",
        "\n",
        "plot6 = sns.countplot(data=df20, ax=ax[1,0],x='month')\n",
        "for label in plot6.get_xticklabels():\n",
        "    if float(label.get_text()) % 2 == 0:\n",
        "        label.set_visible(True)\n",
        "    else:\n",
        "        label.set_visible(False)\n",
        "\n",
        "plot7 = sns.countplot(data=df21, ax=ax[1,1],x='month')\n",
        "for label in plot7.get_xticklabels():\n",
        "    if float(label.get_text()) % 2 == 0:\n",
        "        label.set_visible(True)\n",
        "    else:\n",
        "        label.set_visible(False)\n",
        "\n",
        "plot8 = sns.countplot(data=df22, ax=ax[1,2],x='month')\n",
        "for label in plot8.get_xticklabels():\n",
        "    if float(label.get_text()) % 2 == 0:\n",
        "        label.set_visible(True)\n",
        "    else:\n",
        "        label.set_visible(False)\n",
        "\n",
        "plot9 = sns.countplot(data=df23, ax=ax[1,3],x='month')\n",
        "for label in plot9.get_xticklabels():\n",
        "    if float(label.get_text()) % 2 == 0:\n",
        "        label.set_visible(True)\n",
        "    else:\n",
        "        label.set_visible(False)\n",
        "\n",
        "plot10 = sns.countplot(data=df24, ax=ax[1,4],x='month')\n",
        "for label in plot10.get_xticklabels():\n",
        "    if float(label.get_text()) % 2 == 0:\n",
        "        label.set_visible(True)\n",
        "    else:\n",
        "        label.set_visible(False)\n"
      ]
    },
    {
      "cell_type": "markdown",
      "source": [],
      "metadata": {
        "id": "UzPmz-nIho8n"
      }
    },
    {
      "cell_type": "markdown",
      "metadata": {
        "id": "sjnnPQHkEFX2"
      },
      "source": [
        "A few things stand out to me with this presentation. First, there really is a peak in June or July most years. I have this image of a long hot summer leading to social unrest, violence, and conflict... but June/July seems early for a long hot summer. What gives?\n",
        "\n",
        "Also, what's with march madness? In some years, March is a local maxima. WTF? Cabin fever?\n",
        "\n",
        "This leads to some further questions to look at: state by month: when it gets HOT in the summer, are there more shootings? When it gets COLD in the winter, are there more shootings?\n",
        "\n",
        "\n",
        "#### Now let's look at the data by age"
      ]
    },
    {
      "cell_type": "code",
      "execution_count": 44,
      "metadata": {
        "id": "9S4BuXChEFX2",
        "outputId": "6bd81e60-d4c1-4790-d2d6-b399d78d2ae3",
        "colab": {
          "base_uri": "https://localhost:8080/",
          "height": 850
        }
      },
      "outputs": [
        {
          "output_type": "display_data",
          "data": {
            "text/plain": [
              "<Figure size 1000x1000 with 1 Axes>"
            ],
            "image/png": "[encoded data removed]"
          },
          "metadata": {}
        }
      ],
      "source": [
        "plt.figure(figsize=(10,10))\n",
        "#sns.countplot(data=data[data['gender']=='F'],y='age')\n",
        "plot = sns.countplot(data=data,y='age')\n",
        "#ax.set_xticklabels(ax.get_xticklabels(), fontsize=5)\n",
        "for label in plot.get_yticklabels():\n",
        "    if float(label.get_text()) % 10 == 0:\n",
        "        label.set_visible(True)\n",
        "    else:\n",
        "        label.set_visible(False)"
      ]
    },
    {
      "cell_type": "markdown",
      "metadata": {
        "id": "KTxfIqq1EFX2"
      },
      "source": [
        "It is not a surprise that the peak age of police shooting victims is in the early twenties. I am a bit surprised that the numbers are so high well into the thirties.\n",
        "In terms of absolute numbers, that's where the action is: 20-40 year old (men?) are the overwhelming majority of victims of police shootings.\n",
        "But...\n",
        "I don't even know how to think about the non-zero data for six year olds. Oh, wait. its not one. There are TWO six year olds in this database.\n",
        "UPDATE 2024: This database now includes some additional pre-teens:\n",
        "- Clesslynn Jane Crawford, age 2\n",
        "- Terrell Marshawn Miller, age 4\n",
        "- Jeremy Mardis, age 6\n",
        "- Kameron Christopher Prescott, age 6\n",
        "- Fanta Bility, age 8\n",
        "- Ciara Meyer, age 12\n",
        "- Thomas Joseph Siderio Jr., age 12\n",
        "- then there's a bunch of thirteen year olds, and even more 14 year olds\n",
        "- and so on\n",
        "\n",
        "And what's with all the sixty year olds? I guess I hope when I am sixty-something I will be spry and agile, and may look threatening enough to justify ... no never mind... forget I said that. But what about all the seventy year olds? and the eighty year olds? Ninety one?\n",
        "\n"
      ]
    },
    {
      "cell_type": "markdown",
      "metadata": {
        "id": "RBmM6eCzEFX2"
      },
      "source": [
        "\n",
        "### OK, what about gender?\n",
        "\n",
        "Let's look at the age histogram, and seperate shootings by gender."
      ]
    },
    {
      "cell_type": "code",
      "execution_count": 45,
      "metadata": {
        "id": "rjTX4zTTEFX3",
        "outputId": "581a1809-f900-4b75-d5e0-d36e98dfc7c5",
        "colab": {
          "base_uri": "https://localhost:8080/",
          "height": 449
        }
      },
      "outputs": [
        {
          "output_type": "display_data",
          "data": {
            "text/plain": [
              "<Figure size 640x480 with 1 Axes>"
            ],
            "image/png": "[encoded data removed]"
          },
          "metadata": {}
        }
      ],
      "source": [
        "plot = sns.countplot(data=data,y='age',hue='gender')\n",
        "#plot.yaxis.set_major_locator(ticker.LinearLocator(10))\n",
        "#new_ticks = [i.get_text() for i in plot.get_xticklabels()]\n",
        "#plt.xticks(range(0, len(new_ticks), 10), new_ticks[::10])\n",
        "for label in plot.get_yticklabels():\n",
        "    if float(label.get_text()) % 10 == 0:\n",
        "        label.set_visible(True)\n",
        "    else:\n",
        "        label.set_visible(False)"
      ]
    },
    {
      "cell_type": "markdown",
      "metadata": {
        "id": "qllwAnK3EFX3"
      },
      "source": [
        "### woah\n",
        "\n",
        "Lets look at the age histogram, seperated by gender, side by side."
      ]
    },
    {
      "cell_type": "code",
      "execution_count": 56,
      "metadata": {
        "id": "idt5pTSAEFX3",
        "outputId": "ad20bc63-e0f5-4f08-8f96-980fd500525e",
        "colab": {
          "base_uri": "https://localhost:8080/",
          "height": 311
        }
      },
      "outputs": [
        {
          "output_type": "display_data",
          "data": {
            "text/plain": [
              "<Figure size 1000x300 with 2 Axes>"
            ],
            "image/png": "[encoded data removed]"
          },
          "metadata": {}
        }
      ],
      "source": [
        "dfF = data[data['gender']=='female']\n",
        "dfM = data[data['gender']=='male']\n",
        "_, ax = plt.subplots(1, 2, figsize=(10, 3), sharey=True,sharex=True)\n",
        "\n",
        "plot0 = sns.countplot(data=dfF, ax=ax[0],x='age')\n",
        "plot0.get_xticklabels()\n",
        "\n",
        "plot1 = sns.countplot(data=dfF, ax=ax[0],x='age')\n",
        "for label in plot1.get_xticklabels():\n",
        "    if float(label.get_text()) % 10 == 0:\n",
        "        label.set_visible(True)\n",
        "    else:\n",
        "        label.set_visible(False)\n",
        "plot2 = sns.countplot(data=dfM, ax=ax[1],x='age')\n",
        "for label in plot2.get_xticklabels():\n",
        "    if float(label.get_text()) % 10 == 0:\n",
        "        label.set_visible(True)\n",
        "    else:\n",
        "        label.set_visible(False)"
      ]
    },
    {
      "cell_type": "markdown",
      "metadata": {
        "id": "p7Aemu0UEFX3"
      },
      "source": [
        "So... apparently police shootings have a gender bias. Maybe. I'm just spitballing here.\n",
        "\n",
        "---\n",
        "\n"
      ]
    },
    {
      "cell_type": "code",
      "execution_count": 59,
      "metadata": {
        "scrolled": true,
        "id": "an1tqmcOEFX4",
        "outputId": "e3d30f1d-f323-4004-b39c-cdbe51dfc221",
        "colab": {
          "base_uri": "https://localhost:8080/",
          "height": 449
        }
      },
      "outputs": [
        {
          "output_type": "display_data",
          "data": {
            "text/plain": [
              "<Figure size 640x480 with 1 Axes>"
            ],
            "image/png": "[encoded data removed]"
          },
          "metadata": {}
        }
      ],
      "source": [
        "plot = sns.countplot(data=dfF,x='age')\n",
        "for label in plot.get_xticklabels():\n",
        "    if float(label.get_text()) % 10 == 0:\n",
        "        label.set_visible(True)\n",
        "    else:\n",
        "        label.set_visible(False)"
      ]
    },
    {
      "cell_type": "markdown",
      "metadata": {
        "id": "_BNtINxOEFX4"
      },
      "source": [
        "To state the obvious, notice how much more evenly distributed the age histogram is. Being a YOUNG woman isn't nearly as dangerous as being a young man. This is not to say that any of these shootings are more or less tragic. The fact that middle-aged women are killed by police at about the same rate as young women can not be spun as a good-news story! Notice that the Y-axis is numbered in one and two digit numbers..."
      ]
    },
    {
      "cell_type": "code",
      "source": [
        "plot = sns.countplot(data=dfM,x='age')\n",
        "for label in plot.get_xticklabels():\n",
        "    if float(label.get_text()) % 10 == 0:\n",
        "        label.set_visible(True)\n",
        "    else:\n",
        "        label.set_visible(False)"
      ],
      "metadata": {
        "id": "OtsR03htPPFl",
        "outputId": "84d373df-6b4f-4362-c335-15f684b92a3f",
        "colab": {
          "base_uri": "https://localhost:8080/",
          "height": 449
        }
      },
      "execution_count": 60,
      "outputs": [
        {
          "output_type": "display_data",
          "data": {
            "text/plain": [
              "<Figure size 640x480 with 1 Axes>"
            ],
            "image/png": "[encoded data removed]"
          },
          "metadata": {}
        }
      ]
    },
    {
      "cell_type": "markdown",
      "source": [
        "... but the Y-axis here is triple-digits.\n"
      ],
      "metadata": {
        "id": "VpZMBP9Xx6Hx"
      }
    },
    {
      "cell_type": "code",
      "execution_count": 49,
      "metadata": {
        "scrolled": true,
        "id": "aGjqyiNsEFX4",
        "outputId": "9d518861-640d-42a9-c747-ae3d42327221",
        "colab": {
          "base_uri": "https://localhost:8080/",
          "height": 490
        }
      },
      "outputs": [
        {
          "output_type": "execute_result",
          "data": {
            "text/plain": [
              "age\n",
              "2.0     1\n",
              "4.0     1\n",
              "6.0     2\n",
              "8.0     1\n",
              "12.0    2\n",
              "       ..\n",
              "86.0    3\n",
              "88.0    3\n",
              "89.0    1\n",
              "91.0    2\n",
              "92.0    1\n",
              "Name: count, Length: 83, dtype: int64"
            ],
            "text/html": [
              "<div>\n",
              "<style scoped>\n",
              "    .dataframe tbody tr th:only-of-type {\n",
              "        vertical-align: middle;\n",
              "    }\n",
              "\n",
              "    .dataframe tbody tr th {\n",
              "        vertical-align: top;\n",
              "    }\n",
              "\n",
              "    .dataframe thead th {\n",
              "        text-align: right;\n",
              "    }\n",
              "</style>\n",
              "<table border=\"1\" class=\"dataframe\">\n",
              "  <thead>\n",
              "    <tr style=\"text-align: right;\">\n",
              "      <th></th>\n",
              "      <th>count</th>\n",
              "    </tr>\n",
              "    <tr>\n",
              "      <th>age</th>\n",
              "      <th></th>\n",
              "    </tr>\n",
              "  </thead>\n",
              "  <tbody>\n",
              "    <tr>\n",
              "      <th>2.0</th>\n",
              "      <td>1</td>\n",
              "    </tr>\n",
              "    <tr>\n",
              "      <th>4.0</th>\n",
              "      <td>1</td>\n",
              "    </tr>\n",
              "    <tr>\n",
              "      <th>6.0</th>\n",
              "      <td>2</td>\n",
              "    </tr>\n",
              "    <tr>\n",
              "      <th>8.0</th>\n",
              "      <td>1</td>\n",
              "    </tr>\n",
              "    <tr>\n",
              "      <th>12.0</th>\n",
              "      <td>2</td>\n",
              "    </tr>\n",
              "    <tr>\n",
              "      <th>...</th>\n",
              "      <td>...</td>\n",
              "    </tr>\n",
              "    <tr>\n",
              "      <th>86.0</th>\n",
              "      <td>3</td>\n",
              "    </tr>\n",
              "    <tr>\n",
              "      <th>88.0</th>\n",
              "      <td>3</td>\n",
              "    </tr>\n",
              "    <tr>\n",
              "      <th>89.0</th>\n",
              "      <td>1</td>\n",
              "    </tr>\n",
              "    <tr>\n",
              "      <th>91.0</th>\n",
              "      <td>2</td>\n",
              "    </tr>\n",
              "    <tr>\n",
              "      <th>92.0</th>\n",
              "      <td>1</td>\n",
              "    </tr>\n",
              "  </tbody>\n",
              "</table>\n",
              "<p>83 rows × 1 columns</p>\n",
              "</div><br><label><b>dtype:</b> int64</label>"
            ]
          },
          "metadata": {},
          "execution_count": 49
        }
      ],
      "source": [
        "data['age'].value_counts().sort_index()"
      ]
    },
    {
      "cell_type": "markdown",
      "metadata": {
        "id": "7goB2wPgEFX4"
      },
      "source": [
        "## Mental Illness\n",
        "What does the signs_of_mental_illness field tell us?"
      ]
    },
    {
      "cell_type": "code",
      "execution_count": 61,
      "metadata": {
        "id": "VytVMZ5EEFX4",
        "outputId": "88cc412b-c88a-4df6-eebd-8bdba00c1c29",
        "colab": {
          "base_uri": "https://localhost:8080/",
          "height": 178
        }
      },
      "outputs": [
        {
          "output_type": "execute_result",
          "data": {
            "text/plain": [
              "was_mental_illness_related\n",
              "False    8079\n",
              "True     1980\n",
              "Name: count, dtype: int64"
            ],
            "text/html": [
              "<div>\n",
              "<style scoped>\n",
              "    .dataframe tbody tr th:only-of-type {\n",
              "        vertical-align: middle;\n",
              "    }\n",
              "\n",
              "    .dataframe tbody tr th {\n",
              "        vertical-align: top;\n",
              "    }\n",
              "\n",
              "    .dataframe thead th {\n",
              "        text-align: right;\n",
              "    }\n",
              "</style>\n",
              "<table border=\"1\" class=\"dataframe\">\n",
              "  <thead>\n",
              "    <tr style=\"text-align: right;\">\n",
              "      <th></th>\n",
              "      <th>count</th>\n",
              "    </tr>\n",
              "    <tr>\n",
              "      <th>was_mental_illness_related</th>\n",
              "      <th></th>\n",
              "    </tr>\n",
              "  </thead>\n",
              "  <tbody>\n",
              "    <tr>\n",
              "      <th>False</th>\n",
              "      <td>8079</td>\n",
              "    </tr>\n",
              "    <tr>\n",
              "      <th>True</th>\n",
              "      <td>1980</td>\n",
              "    </tr>\n",
              "  </tbody>\n",
              "</table>\n",
              "</div><br><label><b>dtype:</b> int64</label>"
            ]
          },
          "metadata": {},
          "execution_count": 61
        }
      ],
      "source": [
        "data['was_mental_illness_related'].value_counts()"
      ]
    },
    {
      "cell_type": "code",
      "execution_count": 62,
      "metadata": {
        "scrolled": true,
        "id": "ZHimNuxdEFX5",
        "outputId": "04584616-5b43-424d-c280-4aeba0a46fc0",
        "colab": {
          "base_uri": "https://localhost:8080/",
          "height": 467
        }
      },
      "outputs": [
        {
          "output_type": "execute_result",
          "data": {
            "text/plain": [
              "<Axes: xlabel='was_mental_illness_related', ylabel='count'>"
            ]
          },
          "metadata": {},
          "execution_count": 62
        },
        {
          "output_type": "display_data",
          "data": {
            "text/plain": [
              "<Figure size 640x480 with 1 Axes>"
            ],
            "image/png": "[encoded data removed]"
          },
          "metadata": {}
        }
      ],
      "source": [
        "sns.countplot(data=data,x='was_mental_illness_related')"
      ]
    },
    {
      "cell_type": "markdown",
      "metadata": {
        "id": "BZRhdKX0EFX5"
      },
      "source": [
        "Or, more easily interpretable:"
      ]
    },
    {
      "cell_type": "code",
      "execution_count": 63,
      "metadata": {
        "id": "SIvBSleBEFX5",
        "outputId": "ee489b7a-9d9a-49a7-815b-ed2d0fa1da5c",
        "colab": {
          "base_uri": "https://localhost:8080/",
          "height": 475
        }
      },
      "outputs": [
        {
          "output_type": "execute_result",
          "data": {
            "text/plain": [
              "([<matplotlib.patches.Wedge at 0x7b59eb179030>,\n",
              "  <matplotlib.patches.Wedge at 0x7b59eb1790f0>],\n",
              " [Text(-0.8962961053083609, 0.6376937286888307, ''),\n",
              "  Text(0.896296045603161, -0.6376938126061256, '')])"
            ]
          },
          "metadata": {},
          "execution_count": 63
        },
        {
          "output_type": "display_data",
          "data": {
            "text/plain": [
              "<Figure size 640x480 with 1 Axes>"
            ],
            "image/png": "[encoded data removed]"
          },
          "metadata": {}
        }
      ],
      "source": [
        "plt.pie(data['was_mental_illness_related'].value_counts())\n",
        "#plt.title('Relative Feature Importance')"
      ]
    },
    {
      "cell_type": "code",
      "execution_count": null,
      "metadata": {
        "id": "TC08e5b5EFX5"
      },
      "outputs": [],
      "source": []
    },
    {
      "cell_type": "markdown",
      "metadata": {
        "id": "VYk_TOgGEFX5"
      },
      "source": [
        "A first observation: nearly a fifth of all shooting victims show signs of mental illness. It would be interesting to compare this to the general population. My suspicion is that signs of mental illness appear in shooting victims at a (much) higher rate than the population at large."
      ]
    },
    {
      "cell_type": "code",
      "execution_count": null,
      "metadata": {
        "id": "E59C99awEFX6"
      },
      "outputs": [],
      "source": []
    }
  ],
  "metadata": {
    "kernelspec": {
      "display_name": "Python 3",
      "language": "python",
      "name": "python3"
    },
    "language_info": {
      "codemirror_mode": {
        "name": "ipython",
        "version": 3
      },
      "file_extension": ".py",
      "mimetype": "text/x-python",
      "name": "python",
      "nbconvert_exporter": "python",
      "pygments_lexer": "ipython3",
      "version": "3.6.5"
    },
    "colab": {
      "provenance": [],
      "include_colab_link": true
    }
  },
  "nbformat": 4,
  "nbformat_minor": 0
}