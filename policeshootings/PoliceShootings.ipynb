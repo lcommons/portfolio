{
 "cells": [
  {
   "cell_type": "markdown",
   "metadata": {},
   "source": [
    "### Analysis of fatal police shootings"
   ]
  },
  {
   "cell_type": "code",
   "execution_count": 3,
   "metadata": {},
   "outputs": [],
   "source": [
    "import pandas as pd\n",
    "import numpy as np\n",
    "import matplotlib.pyplot as plt\n",
    "import seaborn as sns\n",
    "%matplotlib inline"
   ]
  },
  {
   "cell_type": "code",
   "execution_count": 4,
   "metadata": {},
   "outputs": [],
   "source": [
    "#data = pd.read_csv('fatal-police-shootings-data.csv')\n",
    "data = pd.read_csv('https://raw.githubusercontent.com/washingtonpost/data-police-shootings/master/fatal-police-shootings-data.csv')"
   ]
  },
  {
   "cell_type": "code",
   "execution_count": 3,
   "metadata": {},
   "outputs": [
    {
     "name": "stdout",
     "output_type": "stream",
     "text": [
      "<class 'pandas.core.frame.DataFrame'>\n",
      "RangeIndex: 3882 entries, 0 to 3881\n",
      "Data columns (total 14 columns):\n",
      "id                         3882 non-null int64\n",
      "name                       3882 non-null object\n",
      "date                       3882 non-null object\n",
      "manner_of_death            3882 non-null object\n",
      "armed                      3633 non-null object\n",
      "age                        3742 non-null float64\n",
      "gender                     3879 non-null object\n",
      "race                       3538 non-null object\n",
      "city                       3882 non-null object\n",
      "state                      3882 non-null object\n",
      "signs_of_mental_illness    3882 non-null bool\n",
      "threat_level               3882 non-null object\n",
      "flee                       3746 non-null object\n",
      "body_camera                3882 non-null bool\n",
      "dtypes: bool(2), float64(1), int64(1), object(10)\n",
      "memory usage: 371.6+ KB\n"
     ]
    }
   ],
   "source": [
    "data.info()"
   ]
  },
  {
   "cell_type": "code",
   "execution_count": 6,
   "metadata": {
    "scrolled": true
   },
   "outputs": [
    {
     "name": "stdout",
     "output_type": "stream",
     "text": [
      "<class 'pandas.core.frame.DataFrame'>\n",
      "RangeIndex: 3882 entries, 0 to 3881\n",
      "Data columns (total 14 columns):\n",
      "id                         3882 non-null int64\n",
      "name                       3882 non-null object\n",
      "date                       3882 non-null object\n",
      "manner_of_death            3882 non-null object\n",
      "armed                      3633 non-null object\n",
      "age                        3744 non-null float64\n",
      "gender                     3879 non-null object\n",
      "race                       3538 non-null object\n",
      "city                       3882 non-null object\n",
      "state                      3882 non-null object\n",
      "signs_of_mental_illness    3882 non-null bool\n",
      "threat_level               3882 non-null object\n",
      "flee                       3746 non-null object\n",
      "body_camera                3882 non-null bool\n",
      "dtypes: bool(2), float64(1), int64(1), object(10)\n",
      "memory usage: 371.6+ KB\n"
     ]
    }
   ],
   "source": [
    "data.info()"
   ]
  },
  {
   "cell_type": "code",
   "execution_count": 7,
   "metadata": {},
   "outputs": [
    {
     "data": {
      "text/html": [
       "<div>\n",
       "<style scoped>\n",
       "    .dataframe tbody tr th:only-of-type {\n",
       "        vertical-align: middle;\n",
       "    }\n",
       "\n",
       "    .dataframe tbody tr th {\n",
       "        vertical-align: top;\n",
       "    }\n",
       "\n",
       "    .dataframe thead th {\n",
       "        text-align: right;\n",
       "    }\n",
       "</style>\n",
       "<table border=\"1\" class=\"dataframe\">\n",
       "  <thead>\n",
       "    <tr style=\"text-align: right;\">\n",
       "      <th></th>\n",
       "      <th>id</th>\n",
       "      <th>age</th>\n",
       "    </tr>\n",
       "  </thead>\n",
       "  <tbody>\n",
       "    <tr>\n",
       "      <th>count</th>\n",
       "      <td>3882.000000</td>\n",
       "      <td>3744.000000</td>\n",
       "    </tr>\n",
       "    <tr>\n",
       "      <th>mean</th>\n",
       "      <td>2176.480938</td>\n",
       "      <td>36.849626</td>\n",
       "    </tr>\n",
       "    <tr>\n",
       "      <th>std</th>\n",
       "      <td>1215.864705</td>\n",
       "      <td>13.091902</td>\n",
       "    </tr>\n",
       "    <tr>\n",
       "      <th>min</th>\n",
       "      <td>3.000000</td>\n",
       "      <td>6.000000</td>\n",
       "    </tr>\n",
       "    <tr>\n",
       "      <th>25%</th>\n",
       "      <td>1125.250000</td>\n",
       "      <td>27.000000</td>\n",
       "    </tr>\n",
       "    <tr>\n",
       "      <th>50%</th>\n",
       "      <td>2167.500000</td>\n",
       "      <td>35.000000</td>\n",
       "    </tr>\n",
       "    <tr>\n",
       "      <th>75%</th>\n",
       "      <td>3229.750000</td>\n",
       "      <td>45.000000</td>\n",
       "    </tr>\n",
       "    <tr>\n",
       "      <th>max</th>\n",
       "      <td>4279.000000</td>\n",
       "      <td>91.000000</td>\n",
       "    </tr>\n",
       "  </tbody>\n",
       "</table>\n",
       "</div>"
      ],
      "text/plain": [
       "                id          age\n",
       "count  3882.000000  3744.000000\n",
       "mean   2176.480938    36.849626\n",
       "std    1215.864705    13.091902\n",
       "min       3.000000     6.000000\n",
       "25%    1125.250000    27.000000\n",
       "50%    2167.500000    35.000000\n",
       "75%    3229.750000    45.000000\n",
       "max    4279.000000    91.000000"
      ]
     },
     "execution_count": 7,
     "metadata": {},
     "output_type": "execute_result"
    }
   ],
   "source": [
    "data.describe()"
   ]
  },
  {
   "cell_type": "markdown",
   "metadata": {},
   "source": [
    "This tells us that most of the data in this dataset is categorical, and will need to be converted to numerical values to be useful.\n",
    "First, lets break the date into year, month and day columns:"
   ]
  },
  {
   "cell_type": "code",
   "execution_count": 8,
   "metadata": {},
   "outputs": [],
   "source": [
    "dateUhFrame = data['date'].str.split('-',expand=True)\n",
    "data['year'] = dateUhFrame[0]\n",
    "data['month'] = dateUhFrame[1]\n",
    "data['day'] = dateUhFrame[2]\n",
    "\n",
    "#data['year'] = data['date'].str.split('-',expand=True)[0]\n",
    "#data['month'] = data['date'].str.split('-',expand=True)[1]\n",
    "#data['day'] = data['date'].str.split('-',expand=True)[2]"
   ]
  },
  {
   "cell_type": "code",
   "execution_count": 9,
   "metadata": {},
   "outputs": [
    {
     "data": {
      "text/html": [
       "<div>\n",
       "<style scoped>\n",
       "    .dataframe tbody tr th:only-of-type {\n",
       "        vertical-align: middle;\n",
       "    }\n",
       "\n",
       "    .dataframe tbody tr th {\n",
       "        vertical-align: top;\n",
       "    }\n",
       "\n",
       "    .dataframe thead th {\n",
       "        text-align: right;\n",
       "    }\n",
       "</style>\n",
       "<table border=\"1\" class=\"dataframe\">\n",
       "  <thead>\n",
       "    <tr style=\"text-align: right;\">\n",
       "      <th></th>\n",
       "      <th>id</th>\n",
       "      <th>name</th>\n",
       "      <th>date</th>\n",
       "      <th>manner_of_death</th>\n",
       "      <th>armed</th>\n",
       "      <th>age</th>\n",
       "      <th>gender</th>\n",
       "      <th>race</th>\n",
       "      <th>city</th>\n",
       "      <th>state</th>\n",
       "      <th>signs_of_mental_illness</th>\n",
       "      <th>threat_level</th>\n",
       "      <th>flee</th>\n",
       "      <th>body_camera</th>\n",
       "      <th>year</th>\n",
       "      <th>month</th>\n",
       "      <th>day</th>\n",
       "    </tr>\n",
       "  </thead>\n",
       "  <tbody>\n",
       "    <tr>\n",
       "      <th>0</th>\n",
       "      <td>3</td>\n",
       "      <td>Tim Elliot</td>\n",
       "      <td>2015-01-02</td>\n",
       "      <td>shot</td>\n",
       "      <td>gun</td>\n",
       "      <td>53.0</td>\n",
       "      <td>M</td>\n",
       "      <td>A</td>\n",
       "      <td>Shelton</td>\n",
       "      <td>WA</td>\n",
       "      <td>True</td>\n",
       "      <td>attack</td>\n",
       "      <td>Not fleeing</td>\n",
       "      <td>False</td>\n",
       "      <td>2015</td>\n",
       "      <td>01</td>\n",
       "      <td>02</td>\n",
       "    </tr>\n",
       "    <tr>\n",
       "      <th>1</th>\n",
       "      <td>4</td>\n",
       "      <td>Lewis Lee Lembke</td>\n",
       "      <td>2015-01-02</td>\n",
       "      <td>shot</td>\n",
       "      <td>gun</td>\n",
       "      <td>47.0</td>\n",
       "      <td>M</td>\n",
       "      <td>W</td>\n",
       "      <td>Aloha</td>\n",
       "      <td>OR</td>\n",
       "      <td>False</td>\n",
       "      <td>attack</td>\n",
       "      <td>Not fleeing</td>\n",
       "      <td>False</td>\n",
       "      <td>2015</td>\n",
       "      <td>01</td>\n",
       "      <td>02</td>\n",
       "    </tr>\n",
       "    <tr>\n",
       "      <th>2</th>\n",
       "      <td>5</td>\n",
       "      <td>John Paul Quintero</td>\n",
       "      <td>2015-01-03</td>\n",
       "      <td>shot and Tasered</td>\n",
       "      <td>unarmed</td>\n",
       "      <td>23.0</td>\n",
       "      <td>M</td>\n",
       "      <td>H</td>\n",
       "      <td>Wichita</td>\n",
       "      <td>KS</td>\n",
       "      <td>False</td>\n",
       "      <td>other</td>\n",
       "      <td>Not fleeing</td>\n",
       "      <td>False</td>\n",
       "      <td>2015</td>\n",
       "      <td>01</td>\n",
       "      <td>03</td>\n",
       "    </tr>\n",
       "    <tr>\n",
       "      <th>3</th>\n",
       "      <td>8</td>\n",
       "      <td>Matthew Hoffman</td>\n",
       "      <td>2015-01-04</td>\n",
       "      <td>shot</td>\n",
       "      <td>toy weapon</td>\n",
       "      <td>32.0</td>\n",
       "      <td>M</td>\n",
       "      <td>W</td>\n",
       "      <td>San Francisco</td>\n",
       "      <td>CA</td>\n",
       "      <td>True</td>\n",
       "      <td>attack</td>\n",
       "      <td>Not fleeing</td>\n",
       "      <td>False</td>\n",
       "      <td>2015</td>\n",
       "      <td>01</td>\n",
       "      <td>04</td>\n",
       "    </tr>\n",
       "    <tr>\n",
       "      <th>4</th>\n",
       "      <td>9</td>\n",
       "      <td>Michael Rodriguez</td>\n",
       "      <td>2015-01-04</td>\n",
       "      <td>shot</td>\n",
       "      <td>nail gun</td>\n",
       "      <td>39.0</td>\n",
       "      <td>M</td>\n",
       "      <td>H</td>\n",
       "      <td>Evans</td>\n",
       "      <td>CO</td>\n",
       "      <td>False</td>\n",
       "      <td>attack</td>\n",
       "      <td>Not fleeing</td>\n",
       "      <td>False</td>\n",
       "      <td>2015</td>\n",
       "      <td>01</td>\n",
       "      <td>04</td>\n",
       "    </tr>\n",
       "  </tbody>\n",
       "</table>\n",
       "</div>"
      ],
      "text/plain": [
       "   id                name        date   manner_of_death       armed   age  \\\n",
       "0   3          Tim Elliot  2015-01-02              shot         gun  53.0   \n",
       "1   4    Lewis Lee Lembke  2015-01-02              shot         gun  47.0   \n",
       "2   5  John Paul Quintero  2015-01-03  shot and Tasered     unarmed  23.0   \n",
       "3   8     Matthew Hoffman  2015-01-04              shot  toy weapon  32.0   \n",
       "4   9   Michael Rodriguez  2015-01-04              shot    nail gun  39.0   \n",
       "\n",
       "  gender race           city state  signs_of_mental_illness threat_level  \\\n",
       "0      M    A        Shelton    WA                     True       attack   \n",
       "1      M    W          Aloha    OR                    False       attack   \n",
       "2      M    H        Wichita    KS                    False        other   \n",
       "3      M    W  San Francisco    CA                     True       attack   \n",
       "4      M    H          Evans    CO                    False       attack   \n",
       "\n",
       "          flee  body_camera  year month day  \n",
       "0  Not fleeing        False  2015    01  02  \n",
       "1  Not fleeing        False  2015    01  02  \n",
       "2  Not fleeing        False  2015    01  03  \n",
       "3  Not fleeing        False  2015    01  04  \n",
       "4  Not fleeing        False  2015    01  04  "
      ]
     },
     "execution_count": 9,
     "metadata": {},
     "output_type": "execute_result"
    }
   ],
   "source": [
    "data.head()"
   ]
  },
  {
   "cell_type": "markdown",
   "metadata": {},
   "source": [
    "### Let's start to analyse the data \n",
    "#### What does the data look like from year to year?"
   ]
  },
  {
   "cell_type": "code",
   "execution_count": 10,
   "metadata": {
    "scrolled": false
   },
   "outputs": [
    {
     "data": {
      "text/plain": [
       "<matplotlib.axes._subplots.AxesSubplot at 0x1a1851ac88>"
      ]
     },
     "execution_count": 10,
     "metadata": {},
     "output_type": "execute_result"
    },
    {
     "data": {
      "image/png": "[encoded data removed]",
      "text/plain": [
       "<Figure size 432x288 with 1 Axes>"
      ]
     },
     "metadata": {},
     "output_type": "display_data"
    }
   ],
   "source": [
    "sns.countplot(data=data,x='year')"
   ]
  },
  {
   "cell_type": "markdown",
   "metadata": {},
   "source": [
    "There is not much variation from year to year. Note that 2018 still has a few weeks left in it. :-(\n",
    "\n",
    "\n",
    "#### How about from month to month over the years?"
   ]
  },
  {
   "cell_type": "code",
   "execution_count": 12,
   "metadata": {
    "scrolled": true
   },
   "outputs": [
    {
     "data": {
      "text/plain": [
       "<matplotlib.axes._subplots.AxesSubplot at 0x1a11cc3a90>"
      ]
     },
     "execution_count": 12,
     "metadata": {},
     "output_type": "execute_result"
    },
    {
     "data": {
      "image/png": "[encoded data removed]",
      "text/plain": [
       "<Figure size 432x288 with 1 Axes>"
      ]
     },
     "metadata": {},
     "output_type": "display_data"
    }
   ],
   "source": [
    "sns.countplot(data=data,x='month')"
   ]
  },
  {
   "cell_type": "markdown",
   "metadata": {},
   "source": [
    "It looks like there might be some monthly patterns here. A peak in the summer? Decline in autumn? But what's going on in early spring?\n",
    "\n",
    "Maybe we should as how consistent is the monthly data from year to year? Is one month consistently higher or lower?"
   ]
  },
  {
   "cell_type": "code",
   "execution_count": 13,
   "metadata": {
    "scrolled": true
   },
   "outputs": [
    {
     "data": {
      "text/plain": [
       "<matplotlib.legend.Legend at 0x109f0e860>"
      ]
     },
     "execution_count": 13,
     "metadata": {},
     "output_type": "execute_result"
    },
    {
     "data": {
      "image/png": "[encoded data removed]",
      "text/plain": [
       "<Figure size 432x288 with 1 Axes>"
      ]
     },
     "metadata": {},
     "output_type": "display_data"
    }
   ],
   "source": [
    "sns.countplot(data=data,x='month', hue='year')\n",
    "plt.legend(loc='lower center')"
   ]
  },
  {
   "cell_type": "markdown",
   "metadata": {},
   "source": [
    "That makes it look like there is a lot of variation, each month, from year to year. July is the highest month one year, but the lowest another! March was really bad one year, but about average other years.\n",
    "\n",
    "Maybe it would be easier to see the monthly data for each year:"
   ]
  },
  {
   "cell_type": "code",
   "execution_count": 14,
   "metadata": {},
   "outputs": [
    {
     "data": {
      "text/plain": [
       "Text(0.5,1,'2018')"
      ]
     },
     "execution_count": 14,
     "metadata": {},
     "output_type": "execute_result"
    },
    {
     "data": {
      "image/png": "[encoded data removed]",
      "text/plain": [
       "<Figure size 1080x216 with 4 Axes>"
      ]
     },
     "metadata": {},
     "output_type": "display_data"
    }
   ],
   "source": [
    "df15 = data[data['year']=='2015']\n",
    "df16 = data[data['year']=='2016']\n",
    "df17 = data[data['year']=='2017']\n",
    "df18 = data[data['year']=='2018']\n",
    "fig, ax = plt.subplots(1, 4, figsize=(15, 3), sharey=True)\n",
    "sns.countplot(data=df15, ax=ax[0],x='month')\n",
    "sns.countplot(data=df16, ax=ax[1],x='month')\n",
    "sns.countplot(data=df17, ax=ax[2],x='month')\n",
    "sns.countplot(data=df18, ax=ax[3],x='month')\n",
    "ax[0].set_title('2015')\n",
    "ax[1].set_title('2016')\n",
    "ax[2].set_title('2017')\n",
    "\n",
    "ax[3].set_title('2018')"
   ]
  },
  {
   "cell_type": "markdown",
   "metadata": {},
   "source": [
    "A few things stand out to me with this presentation. First, there really is a peak in June or July each year. I have this image of a long hot summer leading to social unrest, violence, and conflict... but June/July seems early for a long hot summer. What gives?\n",
    "\n",
    "Also, what's with march madness? In three out of four years, March is a local maxima. WTF? Cabin fever?\n",
    "\n",
    "This leads to some further questions to look at: state by month: when gets HOT in the summer, are there more shootings? When it gets COLD in the winter, are there more shootings?\n",
    "\n",
    "\n",
    "#### Now let's look at the data by age"
   ]
  },
  {
   "cell_type": "code",
   "execution_count": 22,
   "metadata": {},
   "outputs": [
    {
     "data": {
      "text/plain": [
       "<matplotlib.axes._subplots.AxesSubplot at 0x1a1f195668>"
      ]
     },
     "execution_count": 22,
     "metadata": {},
     "output_type": "execute_result"
    },
    {
     "data": {
      "image/png": "[encoded data removed]",
      "text/plain": [
       "<Figure size 1440x1440 with 1 Axes>"
      ]
     },
     "metadata": {},
     "output_type": "display_data"
    }
   ],
   "source": [
    "plt.figure(figsize=(20,20))\n",
    "#sns.countplot(data=data[data['gender']=='F'],y='age')\n",
    "sns.countplot(data=data,y='age')\n"
   ]
  },
  {
   "cell_type": "markdown",
   "metadata": {},
   "source": [
    "It is not a surprise that the peak age of police shooting victims is in the early twenties. I am a bit surprised that the numbers are so high well into the thirties.\n",
    "In terms of absolute numbers, that's where the action is: 20-40 year old (men?) are the overwhelming majority of victims of police shootings.\n",
    "But...\n",
    "I don't even know how to think about the non-zero data for six year olds. Oh, wait. its not one. There are TWO six year olds in this database.\n",
    "\n",
    "And what's with all the sixty year olds? I guess I hope when I am sixty-something I will be spry and agile, and may look threatening enough to justify ... no never mind... forget I said that. But what about all the seventy year olds? and the eighty year olds? Ninety one?\n"
   ]
  },
  {
   "cell_type": "markdown",
   "metadata": {},
   "source": [
    "\n",
    "### OK, what about gender?\n",
    "\n",
    "Let's look at the age histogram, and seperate shootings by gender."
   ]
  },
  {
   "cell_type": "code",
   "execution_count": 11,
   "metadata": {},
   "outputs": [
    {
     "data": {
      "text/plain": [
       "<matplotlib.axes._subplots.AxesSubplot at 0x1a184180b8>"
      ]
     },
     "execution_count": 11,
     "metadata": {},
     "output_type": "execute_result"
    },
    {
     "data": {
      "image/png": "[encoded data removed]",
      "text/plain": [
       "<Figure size 432x288 with 1 Axes>"
      ]
     },
     "metadata": {},
     "output_type": "display_data"
    }
   ],
   "source": [
    "sns.countplot(data=data,y='age',hue='gender')\n"
   ]
  },
  {
   "cell_type": "markdown",
   "metadata": {},
   "source": [
    "### woh\n",
    "\n",
    "Lets look at the age histogram, seperated by gender, side by side."
   ]
  },
  {
   "cell_type": "code",
   "execution_count": 22,
   "metadata": {},
   "outputs": [
    {
     "data": {
      "text/plain": [
       "<matplotlib.axes._subplots.AxesSubplot at 0x1a242e5438>"
      ]
     },
     "execution_count": 22,
     "metadata": {},
     "output_type": "execute_result"
    },
    {
     "data": {
      "image/png": "[encoded data removed]",
      "text/plain": [
       "<Figure size 1080x216 with 2 Axes>"
      ]
     },
     "metadata": {},
     "output_type": "display_data"
    }
   ],
   "source": [
    "dfF = data[data['gender']=='F']\n",
    "dfM = data[data['gender']=='M']\n",
    "fig, ax = plt.subplots(1, 2, figsize=(15, 3), sharey=True,sharex=True)\n",
    "\n",
    "sns.countplot(data=dfF, ax=ax[0],x='age')\n",
    "sns.countplot(data=dfM, ax=ax[1],x='age')"
   ]
  },
  {
   "cell_type": "markdown",
   "metadata": {},
   "source": [
    "Those two histograms look strikingly different! The one on the right looks familiar (see above). Let's zoom in on the age histogram for females."
   ]
  },
  {
   "cell_type": "code",
   "execution_count": 20,
   "metadata": {
    "scrolled": true
   },
   "outputs": [
    {
     "data": {
      "text/plain": [
       "<matplotlib.axes._subplots.AxesSubplot at 0x1a24107eb8>"
      ]
     },
     "execution_count": 20,
     "metadata": {},
     "output_type": "execute_result"
    },
    {
     "data": {
      "image/png": "[encoded data removed]",
      "text/plain": [
       "<Figure size 432x288 with 1 Axes>"
      ]
     },
     "metadata": {},
     "output_type": "display_data"
    }
   ],
   "source": [
    "sns.countplot(data=dfF,x='age')"
   ]
  },
  {
   "cell_type": "markdown",
   "metadata": {},
   "source": [
    "To state the obvious, notice how much more distributed the age histogram is. Being a young woman isn't nearly as dangerous as being a young man. This is not to say that any of these shootings are more or less tragic. The fact that middle-aged women are killed by police at about the same rate as young women can not be spun as a good-news story! Notice that the Y-axis is numbered in the single digits."
   ]
  },
  {
   "cell_type": "code",
   "execution_count": 14,
   "metadata": {
    "scrolled": true
   },
   "outputs": [
    {
     "data": {
      "text/plain": [
       "6.0       2\n",
       "12.0      1\n",
       "13.0      1\n",
       "14.0      2\n",
       "15.0     12\n",
       "16.0     24\n",
       "17.0     33\n",
       "18.0     75\n",
       "19.0     60\n",
       "20.0     65\n",
       "21.0     75\n",
       "22.0     83\n",
       "23.0    103\n",
       "24.0    122\n",
       "25.0    149\n",
       "26.0    112\n",
       "27.0    121\n",
       "28.0    107\n",
       "29.0    121\n",
       "30.0    110\n",
       "31.0    123\n",
       "32.0    121\n",
       "33.0    126\n",
       "34.0    116\n",
       "35.0    109\n",
       "36.0    128\n",
       "37.0    106\n",
       "38.0     91\n",
       "39.0     88\n",
       "40.0     82\n",
       "       ... \n",
       "58.0     31\n",
       "59.0     47\n",
       "60.0     23\n",
       "61.0     21\n",
       "62.0     23\n",
       "63.0     20\n",
       "64.0     18\n",
       "65.0     17\n",
       "66.0     11\n",
       "67.0     10\n",
       "68.0     10\n",
       "69.0      9\n",
       "70.0     12\n",
       "71.0     10\n",
       "72.0      6\n",
       "73.0      3\n",
       "74.0      2\n",
       "75.0      2\n",
       "76.0      7\n",
       "77.0      3\n",
       "78.0      1\n",
       "79.0      1\n",
       "80.0      1\n",
       "81.0      1\n",
       "82.0      2\n",
       "83.0      2\n",
       "84.0      3\n",
       "86.0      2\n",
       "89.0      1\n",
       "91.0      1\n",
       "Name: age, Length: 77, dtype: int64"
      ]
     },
     "execution_count": 14,
     "metadata": {},
     "output_type": "execute_result"
    }
   ],
   "source": [
    "data['age'].value_counts().sort_index()"
   ]
  },
  {
   "cell_type": "markdown",
   "metadata": {},
   "source": [
    "## Mental Illnes\n",
    "What does the signs_of_mental_illness field tell us?"
   ]
  },
  {
   "cell_type": "code",
   "execution_count": 15,
   "metadata": {},
   "outputs": [
    {
     "data": {
      "text/plain": [
       "False    2970\n",
       "True      912\n",
       "Name: signs_of_mental_illness, dtype: int64"
      ]
     },
     "execution_count": 15,
     "metadata": {},
     "output_type": "execute_result"
    }
   ],
   "source": [
    "data['signs_of_mental_illness'].value_counts()"
   ]
  },
  {
   "cell_type": "code",
   "execution_count": 16,
   "metadata": {
    "scrolled": true
   },
   "outputs": [
    {
     "data": {
      "text/plain": [
       "<matplotlib.axes._subplots.AxesSubplot at 0x1a22b79b70>"
      ]
     },
     "execution_count": 16,
     "metadata": {},
     "output_type": "execute_result"
    },
    {
     "data": {
      "image/png": "[encoded data removed]",
      "text/plain": [
       "<Figure size 432x288 with 1 Axes>"
      ]
     },
     "metadata": {},
     "output_type": "display_data"
    }
   ],
   "source": [
    "sns.countplot(data=data,x='signs_of_mental_illness')"
   ]
  },
  {
   "cell_type": "markdown",
   "metadata": {},
   "source": [
    "Or, more easily interpretable:"
   ]
  },
  {
   "cell_type": "code",
   "execution_count": 17,
   "metadata": {},
   "outputs": [
    {
     "data": {
      "text/plain": [
       "([<matplotlib.patches.Wedge at 0x1a23a564a8>,\n",
       "  <matplotlib.patches.Wedge at 0x1a23a56978>],\n",
       " [Text(-0.813756,0.740136,''), Text(0.813756,-0.740136,'')])"
      ]
     },
     "execution_count": 17,
     "metadata": {},
     "output_type": "execute_result"
    },
    {
     "data": {
      "image/png": "[encoded data removed]",
      "text/plain": [
       "<Figure size 432x288 with 1 Axes>"
      ]
     },
     "metadata": {},
     "output_type": "display_data"
    }
   ],
   "source": [
    "plt.pie(data['signs_of_mental_illness'].value_counts())\n",
    "#plt.title('Relative Feature Importance')"
   ]
  },
  {
   "cell_type": "code",
   "execution_count": null,
   "metadata": {},
   "outputs": [],
   "source": []
  },
  {
   "cell_type": "markdown",
   "metadata": {},
   "source": [
    "A first observation: nearly a quarter of all shooting victims show signs of mental illness. It would be interesting to compare this to the general population. My suspicion is that signs of mental illness appear in shooting victims at a much higher rate than the population at large."
   ]
  },
  {
   "cell_type": "markdown",
   "metadata": {},
   "source": [
    "## By State\n",
    "\n",
    "Next, sort by population..."
   ]
  },
  {
   "cell_type": "code",
   "execution_count": 27,
   "metadata": {},
   "outputs": [
    {
     "data": {
      "text/plain": [
       "<matplotlib.axes._subplots.AxesSubplot at 0x1a25c97828>"
      ]
     },
     "execution_count": 27,
     "metadata": {},
     "output_type": "execute_result"
    },
    {
     "data": {
      "image/png": "[encoded data removed]",
      "text/plain": [
       "<Figure size 1440x1440 with 1 Axes>"
      ]
     },
     "metadata": {},
     "output_type": "display_data"
    }
   ],
   "source": [
    "plt.figure(figsize=(20,20))\n",
    "sns.countplot(data=data, x='state')\n"
   ]
  },
  {
   "cell_type": "code",
   "execution_count": null,
   "metadata": {},
   "outputs": [],
   "source": []
  }
 ],
 "metadata": {
  "kernelspec": {
   "display_name": "Python 3",
   "language": "python",
   "name": "python3"
  },
  "language_info": {
   "codemirror_mode": {
    "name": "ipython",
    "version": 3
   },
   "file_extension": ".py",
   "mimetype": "text/x-python",
   "name": "python",
   "nbconvert_exporter": "python",
   "pygments_lexer": "ipython3",
   "version": "3.6.5"
  }
 },
 "nbformat": 4,
 "nbformat_minor": 2
}
